{
 "cells": [
  {
   "cell_type": "markdown",
   "metadata": {
    "toc": true
   },
   "source": [
    "<h1>Содержание<span class=\"tocSkip\"></span></h1>\n",
    "<div class=\"toc\"><ul class=\"toc-item\"><li><span><a href=\"#Подготовка-данных\" data-toc-modified-id=\"Подготовка-данных-1\"><span class=\"toc-item-num\">1&nbsp;&nbsp;</span>Подготовка данных</a></span><ul class=\"toc-item\"><li><span><a href=\"#Загрузка-библиотек-и-данных\" data-toc-modified-id=\"Загрузка-библиотек-и-данных-1.1\"><span class=\"toc-item-num\">1.1&nbsp;&nbsp;</span>Загрузка библиотек и данных</a></span><ul class=\"toc-item\"><li><span><a href=\"#Вывод\" data-toc-modified-id=\"Вывод-1.1.1\"><span class=\"toc-item-num\">1.1.1&nbsp;&nbsp;</span>Вывод</a></span></li></ul></li><li><span><a href=\"#Предварительная-обработка-данных\" data-toc-modified-id=\"Предварительная-обработка-данных-1.2\"><span class=\"toc-item-num\">1.2&nbsp;&nbsp;</span>Предварительная обработка данных</a></span><ul class=\"toc-item\"><li><span><a href=\"#Вывод\" data-toc-modified-id=\"Вывод-1.2.1\"><span class=\"toc-item-num\">1.2.1&nbsp;&nbsp;</span>Вывод</a></span></li></ul></li></ul></li><li><span><a href=\"#Исследование-задачи\" data-toc-modified-id=\"Исследование-задачи-2\"><span class=\"toc-item-num\">2&nbsp;&nbsp;</span>Исследование задачи</a></span><ul class=\"toc-item\"><li><span><a href=\"#RandomForestClassifier\" data-toc-modified-id=\"RandomForestClassifier-2.1\"><span class=\"toc-item-num\">2.1&nbsp;&nbsp;</span>RandomForestClassifier</a></span></li><li><span><a href=\"#DecisionTreeClassifier\" data-toc-modified-id=\"DecisionTreeClassifier-2.2\"><span class=\"toc-item-num\">2.2&nbsp;&nbsp;</span>DecisionTreeClassifier</a></span></li><li><span><a href=\"#LogisticRegression\" data-toc-modified-id=\"LogisticRegression-2.3\"><span class=\"toc-item-num\">2.3&nbsp;&nbsp;</span>LogisticRegression</a></span></li><li><span><a href=\"#Вывод\" data-toc-modified-id=\"Вывод-2.4\"><span class=\"toc-item-num\">2.4&nbsp;&nbsp;</span>Вывод</a></span></li></ul></li><li><span><a href=\"#Борьба-с-дисбалансом\" data-toc-modified-id=\"Борьба-с-дисбалансом-3\"><span class=\"toc-item-num\">3&nbsp;&nbsp;</span>Борьба с дисбалансом</a></span><ul class=\"toc-item\"><li><span><a href=\"#Подготовка-дополнительных-выборок-upsampling-и-downsampling\" data-toc-modified-id=\"Подготовка-дополнительных-выборок-upsampling-и-downsampling-3.1\"><span class=\"toc-item-num\">3.1&nbsp;&nbsp;</span>Подготовка дополнительных выборок upsampling и downsampling</a></span></li><li><span><a href=\"#RandomForestClassifier\" data-toc-modified-id=\"RandomForestClassifier-3.2\"><span class=\"toc-item-num\">3.2&nbsp;&nbsp;</span>RandomForestClassifier</a></span><ul class=\"toc-item\"><li><span><a href=\"#RandomForestClassifier(class_weight='balanced')\" data-toc-modified-id=\"RandomForestClassifier(class_weight='balanced')-3.2.1\"><span class=\"toc-item-num\">3.2.1&nbsp;&nbsp;</span>RandomForestClassifier(class_weight='balanced')</a></span></li><li><span><a href=\"#RandomForestClassifier(upsampling)\" data-toc-modified-id=\"RandomForestClassifier(upsampling)-3.2.2\"><span class=\"toc-item-num\">3.2.2&nbsp;&nbsp;</span>RandomForestClassifier(upsampling)</a></span></li><li><span><a href=\"#RandomForestClassifier(downsampling)\" data-toc-modified-id=\"RandomForestClassifier(downsampling)-3.2.3\"><span class=\"toc-item-num\">3.2.3&nbsp;&nbsp;</span>RandomForestClassifier(downsampling)</a></span></li><li><span><a href=\"#Вывод\" data-toc-modified-id=\"Вывод-3.2.4\"><span class=\"toc-item-num\">3.2.4&nbsp;&nbsp;</span>Вывод</a></span></li></ul></li><li><span><a href=\"#DecisionTreeClassifier\" data-toc-modified-id=\"DecisionTreeClassifier-3.3\"><span class=\"toc-item-num\">3.3&nbsp;&nbsp;</span>DecisionTreeClassifier</a></span><ul class=\"toc-item\"><li><span><a href=\"#DecisionTreeClassifier(class_weight='balanced')\" data-toc-modified-id=\"DecisionTreeClassifier(class_weight='balanced')-3.3.1\"><span class=\"toc-item-num\">3.3.1&nbsp;&nbsp;</span>DecisionTreeClassifier(class_weight='balanced')</a></span></li><li><span><a href=\"#DecisionTreeClassifier(upsampling)\" data-toc-modified-id=\"DecisionTreeClassifier(upsampling)-3.3.2\"><span class=\"toc-item-num\">3.3.2&nbsp;&nbsp;</span>DecisionTreeClassifier(upsampling)</a></span></li><li><span><a href=\"#DecisionTreeClassifier(downsampling)\" data-toc-modified-id=\"DecisionTreeClassifier(downsampling)-3.3.3\"><span class=\"toc-item-num\">3.3.3&nbsp;&nbsp;</span>DecisionTreeClassifier(downsampling)</a></span></li><li><span><a href=\"#Вывод\" data-toc-modified-id=\"Вывод-3.3.4\"><span class=\"toc-item-num\">3.3.4&nbsp;&nbsp;</span>Вывод</a></span></li></ul></li><li><span><a href=\"#LogisticRegression\" data-toc-modified-id=\"LogisticRegression-3.4\"><span class=\"toc-item-num\">3.4&nbsp;&nbsp;</span>LogisticRegression</a></span><ul class=\"toc-item\"><li><span><a href=\"#LogisticRegression(class_weight='balanced')\" data-toc-modified-id=\"LogisticRegression(class_weight='balanced')-3.4.1\"><span class=\"toc-item-num\">3.4.1&nbsp;&nbsp;</span>LogisticRegression(class_weight='balanced')</a></span></li><li><span><a href=\"#LogisticRegression(upsampling)\" data-toc-modified-id=\"LogisticRegression(upsampling)-3.4.2\"><span class=\"toc-item-num\">3.4.2&nbsp;&nbsp;</span>LogisticRegression(upsampling)</a></span></li><li><span><a href=\"#LogisticRegression(downsampling)\" data-toc-modified-id=\"LogisticRegression(downsampling)-3.4.3\"><span class=\"toc-item-num\">3.4.3&nbsp;&nbsp;</span>LogisticRegression(downsampling)</a></span></li><li><span><a href=\"#Вывод\" data-toc-modified-id=\"Вывод-3.4.4\"><span class=\"toc-item-num\">3.4.4&nbsp;&nbsp;</span>Вывод</a></span></li></ul></li></ul></li><li><span><a href=\"#Тестирование-модели\" data-toc-modified-id=\"Тестирование-модели-4\"><span class=\"toc-item-num\">4&nbsp;&nbsp;</span>Тестирование модели</a></span><ul class=\"toc-item\"><li><span><a href=\"#Первое-тестирование\" data-toc-modified-id=\"Первое-тестирование-4.1\"><span class=\"toc-item-num\">4.1&nbsp;&nbsp;</span>Первое тестирование</a></span></li><li><span><a href=\"#Вывод\" data-toc-modified-id=\"Вывод-4.2\"><span class=\"toc-item-num\">4.2&nbsp;&nbsp;</span>Вывод</a></span></li></ul></li><li><span><a href=\"#Вывод\" data-toc-modified-id=\"Вывод-5\"><span class=\"toc-item-num\">5&nbsp;&nbsp;</span>Вывод</a></span></li></ul></div>"
   ]
  },
  {
   "cell_type": "markdown",
   "metadata": {},
   "source": [
    "# Отток клиентов"
   ]
  },
  {
   "cell_type": "markdown",
   "metadata": {},
   "source": [
    "Из «Бета-Банка» стали уходить клиенты. Каждый месяц. Немного, но заметно. Банковские маркетологи посчитали: сохранять текущих клиентов дешевле, чем привлекать новых.\n",
    "\n",
    "Нужно спрогнозировать, уйдёт клиент из банка в ближайшее время или нет. Вам предоставлены исторические данные о поведении клиентов и расторжении договоров с банком. \n",
    "\n",
    "Постройте модель с предельно большим значением *F1*-меры. Чтобы сдать проект успешно, нужно довести метрику до 0.59. Проверьте *F1*-меру на тестовой выборке самостоятельно.\n",
    "\n",
    "Дополнительно измеряйте *AUC-ROC*, сравнивайте её значение с *F1*-мерой.\n",
    "\n",
    "Источник данных: [https://www.kaggle.com/barelydedicated/bank-customer-churn-modeling](https://www.kaggle.com/barelydedicated/bank-customer-churn-modeling)"
   ]
  },
  {
   "cell_type": "markdown",
   "metadata": {},
   "source": [
    "## Подготовка данных"
   ]
  },
  {
   "cell_type": "markdown",
   "metadata": {},
   "source": [
    "### Загрузка библиотек и данных"
   ]
  },
  {
   "cell_type": "code",
   "execution_count": 1,
   "metadata": {},
   "outputs": [],
   "source": [
    "#импорт библиотек\n",
    "import pandas as pd\n",
    "import numpy as np\n",
    "from sklearn.model_selection import train_test_split\n",
    "from sklearn.linear_model import LogisticRegression\n",
    "from sklearn.preprocessing import StandardScaler\n",
    "from sklearn.tree import DecisionTreeClassifier\n",
    "from sklearn.ensemble import RandomForestClassifier\n",
    "from sklearn.metrics import accuracy_score\n",
    "from sklearn.metrics import f1_score\n",
    "from sklearn.metrics import recall_score \n",
    "from sklearn.metrics import precision_score\n",
    "from sklearn.metrics import roc_curve \n",
    "from sklearn.utils import shuffle\n",
    "import random\n",
    "from sklearn.metrics import roc_auc_score\n",
    "from sklearn.metrics import roc_curve\n",
    "from matplotlib import pyplot"
   ]
  },
  {
   "cell_type": "code",
   "execution_count": 2,
   "metadata": {
    "scrolled": false
   },
   "outputs": [
    {
     "data": {
      "text/html": [
       "<div>\n",
       "<style scoped>\n",
       "    .dataframe tbody tr th:only-of-type {\n",
       "        vertical-align: middle;\n",
       "    }\n",
       "\n",
       "    .dataframe tbody tr th {\n",
       "        vertical-align: top;\n",
       "    }\n",
       "\n",
       "    .dataframe thead th {\n",
       "        text-align: right;\n",
       "    }\n",
       "</style>\n",
       "<table border=\"1\" class=\"dataframe\">\n",
       "  <thead>\n",
       "    <tr style=\"text-align: right;\">\n",
       "      <th></th>\n",
       "      <th>RowNumber</th>\n",
       "      <th>CustomerId</th>\n",
       "      <th>Surname</th>\n",
       "      <th>CreditScore</th>\n",
       "      <th>Geography</th>\n",
       "      <th>Gender</th>\n",
       "      <th>Age</th>\n",
       "      <th>Tenure</th>\n",
       "      <th>Balance</th>\n",
       "      <th>NumOfProducts</th>\n",
       "      <th>HasCrCard</th>\n",
       "      <th>IsActiveMember</th>\n",
       "      <th>EstimatedSalary</th>\n",
       "      <th>Exited</th>\n",
       "    </tr>\n",
       "  </thead>\n",
       "  <tbody>\n",
       "    <tr>\n",
       "      <td>0</td>\n",
       "      <td>1</td>\n",
       "      <td>15634602</td>\n",
       "      <td>Hargrave</td>\n",
       "      <td>619</td>\n",
       "      <td>France</td>\n",
       "      <td>Female</td>\n",
       "      <td>42</td>\n",
       "      <td>2.0</td>\n",
       "      <td>0.00</td>\n",
       "      <td>1</td>\n",
       "      <td>1</td>\n",
       "      <td>1</td>\n",
       "      <td>101348.88</td>\n",
       "      <td>1</td>\n",
       "    </tr>\n",
       "    <tr>\n",
       "      <td>1</td>\n",
       "      <td>2</td>\n",
       "      <td>15647311</td>\n",
       "      <td>Hill</td>\n",
       "      <td>608</td>\n",
       "      <td>Spain</td>\n",
       "      <td>Female</td>\n",
       "      <td>41</td>\n",
       "      <td>1.0</td>\n",
       "      <td>83807.86</td>\n",
       "      <td>1</td>\n",
       "      <td>0</td>\n",
       "      <td>1</td>\n",
       "      <td>112542.58</td>\n",
       "      <td>0</td>\n",
       "    </tr>\n",
       "    <tr>\n",
       "      <td>2</td>\n",
       "      <td>3</td>\n",
       "      <td>15619304</td>\n",
       "      <td>Onio</td>\n",
       "      <td>502</td>\n",
       "      <td>France</td>\n",
       "      <td>Female</td>\n",
       "      <td>42</td>\n",
       "      <td>8.0</td>\n",
       "      <td>159660.80</td>\n",
       "      <td>3</td>\n",
       "      <td>1</td>\n",
       "      <td>0</td>\n",
       "      <td>113931.57</td>\n",
       "      <td>1</td>\n",
       "    </tr>\n",
       "    <tr>\n",
       "      <td>3</td>\n",
       "      <td>4</td>\n",
       "      <td>15701354</td>\n",
       "      <td>Boni</td>\n",
       "      <td>699</td>\n",
       "      <td>France</td>\n",
       "      <td>Female</td>\n",
       "      <td>39</td>\n",
       "      <td>1.0</td>\n",
       "      <td>0.00</td>\n",
       "      <td>2</td>\n",
       "      <td>0</td>\n",
       "      <td>0</td>\n",
       "      <td>93826.63</td>\n",
       "      <td>0</td>\n",
       "    </tr>\n",
       "    <tr>\n",
       "      <td>4</td>\n",
       "      <td>5</td>\n",
       "      <td>15737888</td>\n",
       "      <td>Mitchell</td>\n",
       "      <td>850</td>\n",
       "      <td>Spain</td>\n",
       "      <td>Female</td>\n",
       "      <td>43</td>\n",
       "      <td>2.0</td>\n",
       "      <td>125510.82</td>\n",
       "      <td>1</td>\n",
       "      <td>1</td>\n",
       "      <td>1</td>\n",
       "      <td>79084.10</td>\n",
       "      <td>0</td>\n",
       "    </tr>\n",
       "  </tbody>\n",
       "</table>\n",
       "</div>"
      ],
      "text/plain": [
       "   RowNumber  CustomerId   Surname  CreditScore Geography  Gender  Age  \\\n",
       "0          1    15634602  Hargrave          619    France  Female   42   \n",
       "1          2    15647311      Hill          608     Spain  Female   41   \n",
       "2          3    15619304      Onio          502    France  Female   42   \n",
       "3          4    15701354      Boni          699    France  Female   39   \n",
       "4          5    15737888  Mitchell          850     Spain  Female   43   \n",
       "\n",
       "   Tenure    Balance  NumOfProducts  HasCrCard  IsActiveMember  \\\n",
       "0     2.0       0.00              1          1               1   \n",
       "1     1.0   83807.86              1          0               1   \n",
       "2     8.0  159660.80              3          1               0   \n",
       "3     1.0       0.00              2          0               0   \n",
       "4     2.0  125510.82              1          1               1   \n",
       "\n",
       "   EstimatedSalary  Exited  \n",
       "0        101348.88       1  \n",
       "1        112542.58       0  \n",
       "2        113931.57       1  \n",
       "3         93826.63       0  \n",
       "4         79084.10       0  "
      ]
     },
     "metadata": {},
     "output_type": "display_data"
    }
   ],
   "source": [
    "#загрузка данных\n",
    "try:\n",
    "    bank_data = pd.read_csv('/datasets/Churn.csv')\n",
    "except:\n",
    "    print('Data file load error!!')\n",
    "    \n",
    "#вывод первых пяти строк таблицы\n",
    "display(bank_data.head())"
   ]
  },
  {
   "cell_type": "markdown",
   "metadata": {},
   "source": [
    "Cтолбцы:\n",
    "* RowNumber — индекс строки в данных\n",
    "* CustomerId — уникальный идентификатор клиента\n",
    "* Surname — фамилия\n",
    "* CreditScore — кредитный рейтинг\n",
    "* Geography — страна проживания\n",
    "* Gender — пол\n",
    "* Age — возраст\n",
    "* Tenure — сколько лет человек является клиентом банка\n",
    "* Balance — баланс на счёте\n",
    "* NumOfProducts — количество продуктов банка, используемых клиентом\n",
    "* HasCrCard — наличие кредитной карты\n",
    "* IsActiveMember — активность клиента\n",
    "* EstimatedSalary — предполагаемая зарплата\n",
    "* Exited — факт ухода клиента"
   ]
  },
  {
   "cell_type": "code",
   "execution_count": 3,
   "metadata": {
    "scrolled": false
   },
   "outputs": [
    {
     "data": {
      "text/html": [
       "<div>\n",
       "<style scoped>\n",
       "    .dataframe tbody tr th:only-of-type {\n",
       "        vertical-align: middle;\n",
       "    }\n",
       "\n",
       "    .dataframe tbody tr th {\n",
       "        vertical-align: top;\n",
       "    }\n",
       "\n",
       "    .dataframe thead th {\n",
       "        text-align: right;\n",
       "    }\n",
       "</style>\n",
       "<table border=\"1\" class=\"dataframe\">\n",
       "  <thead>\n",
       "    <tr style=\"text-align: right;\">\n",
       "      <th></th>\n",
       "      <th>RowNumber</th>\n",
       "      <th>CustomerId</th>\n",
       "      <th>CreditScore</th>\n",
       "      <th>Age</th>\n",
       "      <th>Tenure</th>\n",
       "      <th>Balance</th>\n",
       "      <th>NumOfProducts</th>\n",
       "      <th>HasCrCard</th>\n",
       "      <th>IsActiveMember</th>\n",
       "      <th>EstimatedSalary</th>\n",
       "      <th>Exited</th>\n",
       "    </tr>\n",
       "  </thead>\n",
       "  <tbody>\n",
       "    <tr>\n",
       "      <td>count</td>\n",
       "      <td>10000.00000</td>\n",
       "      <td>1.000000e+04</td>\n",
       "      <td>10000.000000</td>\n",
       "      <td>10000.000000</td>\n",
       "      <td>9091.000000</td>\n",
       "      <td>10000.000000</td>\n",
       "      <td>10000.000000</td>\n",
       "      <td>10000.00000</td>\n",
       "      <td>10000.000000</td>\n",
       "      <td>10000.000000</td>\n",
       "      <td>10000.000000</td>\n",
       "    </tr>\n",
       "    <tr>\n",
       "      <td>mean</td>\n",
       "      <td>5000.50000</td>\n",
       "      <td>1.569094e+07</td>\n",
       "      <td>650.528800</td>\n",
       "      <td>38.921800</td>\n",
       "      <td>4.997690</td>\n",
       "      <td>76485.889288</td>\n",
       "      <td>1.530200</td>\n",
       "      <td>0.70550</td>\n",
       "      <td>0.515100</td>\n",
       "      <td>100090.239881</td>\n",
       "      <td>0.203700</td>\n",
       "    </tr>\n",
       "    <tr>\n",
       "      <td>std</td>\n",
       "      <td>2886.89568</td>\n",
       "      <td>7.193619e+04</td>\n",
       "      <td>96.653299</td>\n",
       "      <td>10.487806</td>\n",
       "      <td>2.894723</td>\n",
       "      <td>62397.405202</td>\n",
       "      <td>0.581654</td>\n",
       "      <td>0.45584</td>\n",
       "      <td>0.499797</td>\n",
       "      <td>57510.492818</td>\n",
       "      <td>0.402769</td>\n",
       "    </tr>\n",
       "    <tr>\n",
       "      <td>min</td>\n",
       "      <td>1.00000</td>\n",
       "      <td>1.556570e+07</td>\n",
       "      <td>350.000000</td>\n",
       "      <td>18.000000</td>\n",
       "      <td>0.000000</td>\n",
       "      <td>0.000000</td>\n",
       "      <td>1.000000</td>\n",
       "      <td>0.00000</td>\n",
       "      <td>0.000000</td>\n",
       "      <td>11.580000</td>\n",
       "      <td>0.000000</td>\n",
       "    </tr>\n",
       "    <tr>\n",
       "      <td>25%</td>\n",
       "      <td>2500.75000</td>\n",
       "      <td>1.562853e+07</td>\n",
       "      <td>584.000000</td>\n",
       "      <td>32.000000</td>\n",
       "      <td>2.000000</td>\n",
       "      <td>0.000000</td>\n",
       "      <td>1.000000</td>\n",
       "      <td>0.00000</td>\n",
       "      <td>0.000000</td>\n",
       "      <td>51002.110000</td>\n",
       "      <td>0.000000</td>\n",
       "    </tr>\n",
       "    <tr>\n",
       "      <td>50%</td>\n",
       "      <td>5000.50000</td>\n",
       "      <td>1.569074e+07</td>\n",
       "      <td>652.000000</td>\n",
       "      <td>37.000000</td>\n",
       "      <td>5.000000</td>\n",
       "      <td>97198.540000</td>\n",
       "      <td>1.000000</td>\n",
       "      <td>1.00000</td>\n",
       "      <td>1.000000</td>\n",
       "      <td>100193.915000</td>\n",
       "      <td>0.000000</td>\n",
       "    </tr>\n",
       "    <tr>\n",
       "      <td>75%</td>\n",
       "      <td>7500.25000</td>\n",
       "      <td>1.575323e+07</td>\n",
       "      <td>718.000000</td>\n",
       "      <td>44.000000</td>\n",
       "      <td>7.000000</td>\n",
       "      <td>127644.240000</td>\n",
       "      <td>2.000000</td>\n",
       "      <td>1.00000</td>\n",
       "      <td>1.000000</td>\n",
       "      <td>149388.247500</td>\n",
       "      <td>0.000000</td>\n",
       "    </tr>\n",
       "    <tr>\n",
       "      <td>max</td>\n",
       "      <td>10000.00000</td>\n",
       "      <td>1.581569e+07</td>\n",
       "      <td>850.000000</td>\n",
       "      <td>92.000000</td>\n",
       "      <td>10.000000</td>\n",
       "      <td>250898.090000</td>\n",
       "      <td>4.000000</td>\n",
       "      <td>1.00000</td>\n",
       "      <td>1.000000</td>\n",
       "      <td>199992.480000</td>\n",
       "      <td>1.000000</td>\n",
       "    </tr>\n",
       "  </tbody>\n",
       "</table>\n",
       "</div>"
      ],
      "text/plain": [
       "         RowNumber    CustomerId   CreditScore           Age       Tenure  \\\n",
       "count  10000.00000  1.000000e+04  10000.000000  10000.000000  9091.000000   \n",
       "mean    5000.50000  1.569094e+07    650.528800     38.921800     4.997690   \n",
       "std     2886.89568  7.193619e+04     96.653299     10.487806     2.894723   \n",
       "min        1.00000  1.556570e+07    350.000000     18.000000     0.000000   \n",
       "25%     2500.75000  1.562853e+07    584.000000     32.000000     2.000000   \n",
       "50%     5000.50000  1.569074e+07    652.000000     37.000000     5.000000   \n",
       "75%     7500.25000  1.575323e+07    718.000000     44.000000     7.000000   \n",
       "max    10000.00000  1.581569e+07    850.000000     92.000000    10.000000   \n",
       "\n",
       "             Balance  NumOfProducts    HasCrCard  IsActiveMember  \\\n",
       "count   10000.000000   10000.000000  10000.00000    10000.000000   \n",
       "mean    76485.889288       1.530200      0.70550        0.515100   \n",
       "std     62397.405202       0.581654      0.45584        0.499797   \n",
       "min         0.000000       1.000000      0.00000        0.000000   \n",
       "25%         0.000000       1.000000      0.00000        0.000000   \n",
       "50%     97198.540000       1.000000      1.00000        1.000000   \n",
       "75%    127644.240000       2.000000      1.00000        1.000000   \n",
       "max    250898.090000       4.000000      1.00000        1.000000   \n",
       "\n",
       "       EstimatedSalary        Exited  \n",
       "count     10000.000000  10000.000000  \n",
       "mean     100090.239881      0.203700  \n",
       "std       57510.492818      0.402769  \n",
       "min          11.580000      0.000000  \n",
       "25%       51002.110000      0.000000  \n",
       "50%      100193.915000      0.000000  \n",
       "75%      149388.247500      0.000000  \n",
       "max      199992.480000      1.000000  "
      ]
     },
     "metadata": {},
     "output_type": "display_data"
    }
   ],
   "source": [
    "#вывод основных характеристик числовых столбцов таблицы\n",
    "display(bank_data.describe())"
   ]
  },
  {
   "cell_type": "code",
   "execution_count": 4,
   "metadata": {
    "scrolled": true
   },
   "outputs": [
    {
     "name": "stdout",
     "output_type": "stream",
     "text": [
      "<class 'pandas.core.frame.DataFrame'>\n",
      "RangeIndex: 10000 entries, 0 to 9999\n",
      "Data columns (total 14 columns):\n",
      "RowNumber          10000 non-null int64\n",
      "CustomerId         10000 non-null int64\n",
      "Surname            10000 non-null object\n",
      "CreditScore        10000 non-null int64\n",
      "Geography          10000 non-null object\n",
      "Gender             10000 non-null object\n",
      "Age                10000 non-null int64\n",
      "Tenure             9091 non-null float64\n",
      "Balance            10000 non-null float64\n",
      "NumOfProducts      10000 non-null int64\n",
      "HasCrCard          10000 non-null int64\n",
      "IsActiveMember     10000 non-null int64\n",
      "EstimatedSalary    10000 non-null float64\n",
      "Exited             10000 non-null int64\n",
      "dtypes: float64(3), int64(8), object(3)\n",
      "memory usage: 1.1+ MB\n"
     ]
    },
    {
     "data": {
      "text/plain": [
       "None"
      ]
     },
     "metadata": {},
     "output_type": "display_data"
    },
    {
     "name": "stdout",
     "output_type": "stream",
     "text": [
      "Размер таблицы bank_data: (10000, 14)\n"
     ]
    }
   ],
   "source": [
    "#вывод основной информации о таблице bank_data\n",
    "display(bank_data.info())\n",
    "\n",
    "#вывод размера таблицы bank_data\n",
    "print('Размер таблицы bank_data:',bank_data.shape)"
   ]
  },
  {
   "cell_type": "markdown",
   "metadata": {},
   "source": [
    "В таблице **14 столбцов и 10000 строк**. пропуски есть только в столбце **Tenure** (сколько лет человек является клиентом банка). Пропуски в данном столбце вороятно связаны с отсутсвием информации о сроке взаимодействия. Эту информацию дополнительно найти в данный момент не возможно. Рассмотрим строки с пропусками в данном столбце подробнее."
   ]
  },
  {
   "cell_type": "code",
   "execution_count": 5,
   "metadata": {
    "scrolled": true
   },
   "outputs": [
    {
     "data": {
      "text/html": [
       "<div>\n",
       "<style scoped>\n",
       "    .dataframe tbody tr th:only-of-type {\n",
       "        vertical-align: middle;\n",
       "    }\n",
       "\n",
       "    .dataframe tbody tr th {\n",
       "        vertical-align: top;\n",
       "    }\n",
       "\n",
       "    .dataframe thead th {\n",
       "        text-align: right;\n",
       "    }\n",
       "</style>\n",
       "<table border=\"1\" class=\"dataframe\">\n",
       "  <thead>\n",
       "    <tr style=\"text-align: right;\">\n",
       "      <th></th>\n",
       "      <th>RowNumber</th>\n",
       "      <th>CustomerId</th>\n",
       "      <th>CreditScore</th>\n",
       "      <th>Age</th>\n",
       "      <th>Tenure</th>\n",
       "      <th>Balance</th>\n",
       "      <th>NumOfProducts</th>\n",
       "      <th>HasCrCard</th>\n",
       "      <th>IsActiveMember</th>\n",
       "      <th>EstimatedSalary</th>\n",
       "      <th>Exited</th>\n",
       "    </tr>\n",
       "  </thead>\n",
       "  <tbody>\n",
       "    <tr>\n",
       "      <td>count</td>\n",
       "      <td>909.000000</td>\n",
       "      <td>9.090000e+02</td>\n",
       "      <td>909.000000</td>\n",
       "      <td>909.000000</td>\n",
       "      <td>0.0</td>\n",
       "      <td>909.000000</td>\n",
       "      <td>909.000000</td>\n",
       "      <td>909.000000</td>\n",
       "      <td>909.000000</td>\n",
       "      <td>909.000000</td>\n",
       "      <td>909.000000</td>\n",
       "    </tr>\n",
       "    <tr>\n",
       "      <td>mean</td>\n",
       "      <td>4866.386139</td>\n",
       "      <td>1.568981e+07</td>\n",
       "      <td>648.451045</td>\n",
       "      <td>38.647965</td>\n",
       "      <td>NaN</td>\n",
       "      <td>76117.341474</td>\n",
       "      <td>1.530253</td>\n",
       "      <td>0.710671</td>\n",
       "      <td>0.510451</td>\n",
       "      <td>99180.389373</td>\n",
       "      <td>0.201320</td>\n",
       "    </tr>\n",
       "    <tr>\n",
       "      <td>std</td>\n",
       "      <td>2909.604343</td>\n",
       "      <td>7.511225e+04</td>\n",
       "      <td>99.079381</td>\n",
       "      <td>9.785438</td>\n",
       "      <td>NaN</td>\n",
       "      <td>63105.690715</td>\n",
       "      <td>0.588452</td>\n",
       "      <td>0.453701</td>\n",
       "      <td>0.500166</td>\n",
       "      <td>56378.063765</td>\n",
       "      <td>0.401207</td>\n",
       "    </tr>\n",
       "    <tr>\n",
       "      <td>min</td>\n",
       "      <td>31.000000</td>\n",
       "      <td>1.556581e+07</td>\n",
       "      <td>359.000000</td>\n",
       "      <td>18.000000</td>\n",
       "      <td>NaN</td>\n",
       "      <td>0.000000</td>\n",
       "      <td>1.000000</td>\n",
       "      <td>0.000000</td>\n",
       "      <td>0.000000</td>\n",
       "      <td>106.670000</td>\n",
       "      <td>0.000000</td>\n",
       "    </tr>\n",
       "    <tr>\n",
       "      <td>25%</td>\n",
       "      <td>2311.000000</td>\n",
       "      <td>1.562658e+07</td>\n",
       "      <td>580.000000</td>\n",
       "      <td>32.000000</td>\n",
       "      <td>NaN</td>\n",
       "      <td>0.000000</td>\n",
       "      <td>1.000000</td>\n",
       "      <td>0.000000</td>\n",
       "      <td>0.000000</td>\n",
       "      <td>49872.330000</td>\n",
       "      <td>0.000000</td>\n",
       "    </tr>\n",
       "    <tr>\n",
       "      <td>50%</td>\n",
       "      <td>4887.000000</td>\n",
       "      <td>1.568687e+07</td>\n",
       "      <td>647.000000</td>\n",
       "      <td>37.000000</td>\n",
       "      <td>NaN</td>\n",
       "      <td>96674.550000</td>\n",
       "      <td>1.000000</td>\n",
       "      <td>1.000000</td>\n",
       "      <td>1.000000</td>\n",
       "      <td>99444.020000</td>\n",
       "      <td>0.000000</td>\n",
       "    </tr>\n",
       "    <tr>\n",
       "      <td>75%</td>\n",
       "      <td>7306.000000</td>\n",
       "      <td>1.575680e+07</td>\n",
       "      <td>718.000000</td>\n",
       "      <td>43.000000</td>\n",
       "      <td>NaN</td>\n",
       "      <td>128554.980000</td>\n",
       "      <td>2.000000</td>\n",
       "      <td>1.000000</td>\n",
       "      <td>1.000000</td>\n",
       "      <td>145759.700000</td>\n",
       "      <td>0.000000</td>\n",
       "    </tr>\n",
       "    <tr>\n",
       "      <td>max</td>\n",
       "      <td>10000.000000</td>\n",
       "      <td>1.581569e+07</td>\n",
       "      <td>850.000000</td>\n",
       "      <td>92.000000</td>\n",
       "      <td>NaN</td>\n",
       "      <td>206663.750000</td>\n",
       "      <td>4.000000</td>\n",
       "      <td>1.000000</td>\n",
       "      <td>1.000000</td>\n",
       "      <td>199390.450000</td>\n",
       "      <td>1.000000</td>\n",
       "    </tr>\n",
       "  </tbody>\n",
       "</table>\n",
       "</div>"
      ],
      "text/plain": [
       "          RowNumber    CustomerId  CreditScore         Age  Tenure  \\\n",
       "count    909.000000  9.090000e+02   909.000000  909.000000     0.0   \n",
       "mean    4866.386139  1.568981e+07   648.451045   38.647965     NaN   \n",
       "std     2909.604343  7.511225e+04    99.079381    9.785438     NaN   \n",
       "min       31.000000  1.556581e+07   359.000000   18.000000     NaN   \n",
       "25%     2311.000000  1.562658e+07   580.000000   32.000000     NaN   \n",
       "50%     4887.000000  1.568687e+07   647.000000   37.000000     NaN   \n",
       "75%     7306.000000  1.575680e+07   718.000000   43.000000     NaN   \n",
       "max    10000.000000  1.581569e+07   850.000000   92.000000     NaN   \n",
       "\n",
       "             Balance  NumOfProducts   HasCrCard  IsActiveMember  \\\n",
       "count     909.000000     909.000000  909.000000      909.000000   \n",
       "mean    76117.341474       1.530253    0.710671        0.510451   \n",
       "std     63105.690715       0.588452    0.453701        0.500166   \n",
       "min         0.000000       1.000000    0.000000        0.000000   \n",
       "25%         0.000000       1.000000    0.000000        0.000000   \n",
       "50%     96674.550000       1.000000    1.000000        1.000000   \n",
       "75%    128554.980000       2.000000    1.000000        1.000000   \n",
       "max    206663.750000       4.000000    1.000000        1.000000   \n",
       "\n",
       "       EstimatedSalary      Exited  \n",
       "count       909.000000  909.000000  \n",
       "mean      99180.389373    0.201320  \n",
       "std       56378.063765    0.401207  \n",
       "min         106.670000    0.000000  \n",
       "25%       49872.330000    0.000000  \n",
       "50%       99444.020000    0.000000  \n",
       "75%      145759.700000    0.000000  \n",
       "max      199390.450000    1.000000  "
      ]
     },
     "metadata": {},
     "output_type": "display_data"
    }
   ],
   "source": [
    "display(bank_data[pd.isna(bank_data['Tenure'])].describe())"
   ]
  },
  {
   "cell_type": "markdown",
   "metadata": {},
   "source": [
    "В данных строках соотношение значений в целевом столбце сопоставимо с соотношением значений в таблице в целом. А количество строк с пропусками составляет **менее 10 процентов от общего объема данных**. Поэтому считаю что эти строки **лучше удалить, чем заполнять**. Это не значительно повлияет на соотношение положительных и отрицательных ответов в целевом столбце."
   ]
  },
  {
   "cell_type": "code",
   "execution_count": 6,
   "metadata": {},
   "outputs": [
    {
     "data": {
      "text/plain": [
       "0"
      ]
     },
     "execution_count": 6,
     "metadata": {},
     "output_type": "execute_result"
    }
   ],
   "source": [
    "#Проверка на явные дубликаты строк\n",
    "bank_data.duplicated().sum()"
   ]
  },
  {
   "cell_type": "markdown",
   "metadata": {},
   "source": [
    "Явных дубликатов нет."
   ]
  },
  {
   "cell_type": "markdown",
   "metadata": {},
   "source": [
    "Проверим уникальные значения столбцов содержащих текстовые данные"
   ]
  },
  {
   "cell_type": "code",
   "execution_count": 7,
   "metadata": {},
   "outputs": [
    {
     "data": {
      "text/plain": [
       "array(['France', 'Spain', 'Germany'], dtype=object)"
      ]
     },
     "execution_count": 7,
     "metadata": {},
     "output_type": "execute_result"
    }
   ],
   "source": [
    "#вывод уникальных значений столбца Geography\n",
    "bank_data['Geography'].unique()"
   ]
  },
  {
   "cell_type": "code",
   "execution_count": 8,
   "metadata": {},
   "outputs": [
    {
     "data": {
      "text/plain": [
       "array(['Female', 'Male'], dtype=object)"
      ]
     },
     "execution_count": 8,
     "metadata": {},
     "output_type": "execute_result"
    }
   ],
   "source": [
    "#вывод уникальных значений столбца Gender\n",
    "bank_data['Gender'].unique()"
   ]
  },
  {
   "cell_type": "markdown",
   "metadata": {},
   "source": [
    "#### Вывод"
   ]
  },
  {
   "cell_type": "markdown",
   "metadata": {},
   "source": [
    "В таблице **14 столбцов и 10000 строк**. Столбец **Tenure** имеет пропуски, заполнить их не чем, поэтому в дальнейшем удалим эти строки. В стобце **Exited преобладают нули**. Только **20 процентов данных составляют единицы**. Столбцы **'RowNumber', 'CustomerId', 'Surname'** не содержат полезных для обучения модели данных."
   ]
  },
  {
   "cell_type": "markdown",
   "metadata": {},
   "source": [
    "### Предварительная обработка данных"
   ]
  },
  {
   "cell_type": "markdown",
   "metadata": {},
   "source": [
    "Удалим строки с пустым значением в столбце Tenure и изменим тип столбца на integer"
   ]
  },
  {
   "cell_type": "code",
   "execution_count": 9,
   "metadata": {},
   "outputs": [
    {
     "data": {
      "text/plain": [
       "array([ 2,  1,  8,  7,  4,  6,  3, 10,  5,  9,  0])"
      ]
     },
     "execution_count": 9,
     "metadata": {},
     "output_type": "execute_result"
    }
   ],
   "source": [
    "#удаление строк с пустым значением в столбце Tenure\n",
    "bank_data = bank_data.dropna()\n",
    "\n",
    "#изменение типа столбца на integer\n",
    "bank_data['Tenure'] = bank_data['Tenure'].astype(int, copy=False)\n",
    "\n",
    "bank_data['Tenure'].unique()"
   ]
  },
  {
   "cell_type": "markdown",
   "metadata": {},
   "source": [
    "Столбцы **'RowNumber', 'CustomerId', 'Surname'** содержат данные, которые не влияют на то, уйдет пользователь или нет. Поэтому **удалим их**."
   ]
  },
  {
   "cell_type": "code",
   "execution_count": 10,
   "metadata": {},
   "outputs": [
    {
     "name": "stdout",
     "output_type": "stream",
     "text": [
      "<class 'pandas.core.frame.DataFrame'>\n",
      "Int64Index: 9091 entries, 0 to 9998\n",
      "Data columns (total 11 columns):\n",
      "CreditScore        9091 non-null int64\n",
      "Geography          9091 non-null object\n",
      "Gender             9091 non-null object\n",
      "Age                9091 non-null int64\n",
      "Tenure             9091 non-null int64\n",
      "Balance            9091 non-null float64\n",
      "NumOfProducts      9091 non-null int64\n",
      "HasCrCard          9091 non-null int64\n",
      "IsActiveMember     9091 non-null int64\n",
      "EstimatedSalary    9091 non-null float64\n",
      "Exited             9091 non-null int64\n",
      "dtypes: float64(2), int64(7), object(2)\n",
      "memory usage: 852.3+ KB\n"
     ]
    }
   ],
   "source": [
    "#удаление столбцов 'RowNumber', 'CustomerId', 'Surname'\n",
    "bank_data = bank_data.drop(['RowNumber', 'CustomerId', 'Surname'], axis = 1)\n",
    "\n",
    "#вывод на экран информации о таблице bank_data_clear\n",
    "bank_data.info()"
   ]
  },
  {
   "cell_type": "markdown",
   "metadata": {},
   "source": [
    "Столбец с **названием страны** и столбец с **полом пользователя** закодируем с использованием метода **get_dummies**. "
   ]
  },
  {
   "cell_type": "code",
   "execution_count": 11,
   "metadata": {},
   "outputs": [
    {
     "name": "stdout",
     "output_type": "stream",
     "text": [
      "<class 'pandas.core.frame.DataFrame'>\n",
      "Int64Index: 9091 entries, 0 to 9998\n",
      "Data columns (total 12 columns):\n",
      "CreditScore          9091 non-null int64\n",
      "Age                  9091 non-null int64\n",
      "Tenure               9091 non-null int64\n",
      "Balance              9091 non-null float64\n",
      "NumOfProducts        9091 non-null int64\n",
      "HasCrCard            9091 non-null int64\n",
      "IsActiveMember       9091 non-null int64\n",
      "EstimatedSalary      9091 non-null float64\n",
      "Exited               9091 non-null int64\n",
      "Geography_Germany    9091 non-null uint8\n",
      "Geography_Spain      9091 non-null uint8\n",
      "Gender_Male          9091 non-null uint8\n",
      "dtypes: float64(2), int64(7), uint8(3)\n",
      "memory usage: 736.9 KB\n"
     ]
    }
   ],
   "source": [
    "#Используем прямое кодирование для кодирования признаков \n",
    "bank_data_ohe = pd.get_dummies(bank_data, drop_first=True)\n",
    "\n",
    "bank_data_ohe.info()"
   ]
  },
  {
   "cell_type": "markdown",
   "metadata": {},
   "source": [
    "Готово. Разобьем таблице на признаки и целевой столбец."
   ]
  },
  {
   "cell_type": "code",
   "execution_count": 12,
   "metadata": {},
   "outputs": [
    {
     "name": "stdout",
     "output_type": "stream",
     "text": [
      "(9091,)\n",
      "(9091, 11)\n"
     ]
    }
   ],
   "source": [
    "#разобьем данные на признаки и целевой столбец\n",
    "target = bank_data_ohe['Exited']\n",
    "features = bank_data_ohe.drop('Exited', axis=1)\n",
    "\n",
    "#вывод размеров получившихся выборок\n",
    "print(target.shape)\n",
    "print(features.shape)"
   ]
  },
  {
   "cell_type": "markdown",
   "metadata": {},
   "source": [
    "Разделим данные на обучающую, валидационную и тестовую выборки в соотношении 6:2:2. Сначала разобьем выборку на обучающую и валидационно-тестовую."
   ]
  },
  {
   "cell_type": "code",
   "execution_count": 13,
   "metadata": {},
   "outputs": [
    {
     "name": "stdout",
     "output_type": "stream",
     "text": [
      "Размерность обучающих данных:\n",
      "(5454,)\n",
      "(5454, 11)\n"
     ]
    }
   ],
   "source": [
    "#разобьем данные на обучающую выборку и валидационно тестовую\n",
    "features_train, features_valid_test, target_train, target_valid_test = train_test_split(\n",
    "    features, target, test_size=0.40, random_state=12345)\n",
    "\n",
    "#вывод размеров получившихся выборок\n",
    "print(\"Размерность обучающих данных:\")\n",
    "print(target_train.shape)\n",
    "print(features_train.shape)"
   ]
  },
  {
   "cell_type": "markdown",
   "metadata": {},
   "source": [
    "Теперь разобьем валидационнотестовую выборку на тестовую и валидационную"
   ]
  },
  {
   "cell_type": "code",
   "execution_count": 14,
   "metadata": {},
   "outputs": [
    {
     "name": "stdout",
     "output_type": "stream",
     "text": [
      "Размерность обучающих данных:\n",
      "(1818, 11)\n",
      "(1818,)\n",
      "Размерность обучающих данных:\n",
      "(1819, 11)\n",
      "(1819,)\n"
     ]
    }
   ],
   "source": [
    "#разобьем данные на тестовую выборку и валидационную\n",
    "features_valid, features_test, target_valid, target_test = train_test_split(\n",
    "    features_valid_test, target_valid_test, test_size=0.50, random_state=12345)\n",
    "\n",
    "#вывод размеров получившихся выборок\n",
    "print(\"Размерность обучающих данных:\")\n",
    "print(features_valid.shape)\n",
    "print(target_valid.shape)\n",
    "\n",
    "print(\"Размерность обучающих данных:\")\n",
    "print(features_test.shape)\n",
    "print(target_test.shape)"
   ]
  },
  {
   "cell_type": "markdown",
   "metadata": {},
   "source": [
    "Маштабируем признаки"
   ]
  },
  {
   "cell_type": "code",
   "execution_count": 15,
   "metadata": {},
   "outputs": [],
   "source": [
    "#отключим предупреждения\n",
    "pd.options.mode.chained_assignment = None\n",
    "\n",
    "#отберем столбцы для маштабирования\n",
    "numeric = ['CreditScore', 'Age', 'Tenure', 'Balance', 'NumOfProducts', 'EstimatedSalary']\n",
    "\n",
    "#создадим объект StandardScaler и настроим его на обучающих данных\n",
    "scaler = StandardScaler()\n",
    "scaler.fit(features_train[numeric])\n",
    "\n",
    "#маштабируем признаки\n",
    "features_train[numeric] = scaler.transform(features_train[numeric])\n",
    "features_valid[numeric] = scaler.transform(features_valid[numeric])\n",
    "features_test[numeric] = scaler.transform(features_test[numeric])"
   ]
  },
  {
   "cell_type": "markdown",
   "metadata": {},
   "source": [
    "#### Вывод"
   ]
  },
  {
   "cell_type": "markdown",
   "metadata": {},
   "source": [
    "Данные разбиты на 3 выборки: обучающую, валидационную и тестовую. Произведено маштабирование признаков."
   ]
  },
  {
   "cell_type": "markdown",
   "metadata": {},
   "source": [
    "## Исследование задачи"
   ]
  },
  {
   "cell_type": "markdown",
   "metadata": {},
   "source": [
    "Обучим модели и оценим их качество."
   ]
  },
  {
   "cell_type": "markdown",
   "metadata": {},
   "source": [
    "### RandomForestClassifier"
   ]
  },
  {
   "cell_type": "markdown",
   "metadata": {},
   "source": [
    "Первой обучим модель RandomForestClassifier. Для более качественного обучения в цикле подберем параметры n_estimators и depth. И уже дя лучшей модели вычислим Accu_score, f1_score, recall, precision."
   ]
  },
  {
   "cell_type": "code",
   "execution_count": 16,
   "metadata": {},
   "outputs": [
    {
     "name": "stdout",
     "output_type": "stream",
     "text": [
      "accuracy_score для RandomForest: 0.8613861386138614\n",
      "f1_score для RandomForest: 0.60625\n",
      "Полнота модели RandomForest: 0.5145888594164456\n",
      "Точность модели RandomForest: 0.7376425855513308\n",
      "Лучшее значение n_estimators 13\n",
      "Лучшее значение max_depth 24\n"
     ]
    }
   ],
   "source": [
    "#инициализация переменных для хранения лучших результатов работы модели\n",
    "best_model_RFC = None\n",
    "best_result = 0\n",
    "best_predicted_valid_RFC = None\n",
    "best_ets = 0\n",
    "best_depth = 0\n",
    "\n",
    "#цикл выбора лучшего значения n_estimators\n",
    "for est in range(1, 30, 2):\n",
    "    for depth in range (2, 26, 2):\n",
    "        #объявление модели\n",
    "        model_RFC = RandomForestClassifier(random_state = 12345, n_estimators = est, max_depth=depth)\n",
    "        #обучение модели\n",
    "        model_RFC.fit(features_train, target_train)\n",
    "        \n",
    "        #получим предсказание модели\n",
    "        predicted_valid_RFC = model_RFC.predict(features_valid)\n",
    "        \n",
    "        #проверка, какая модель лучше. Если новая модель лучше, заполним переменные новыми значениями\n",
    "        if(f1_score(target_valid, predicted_valid_RFC) > best_result):\n",
    "            best_model_RFC = model_RFC\n",
    "            best_result = f1_score(target_valid, predicted_valid_RFC)\n",
    "            best_predicted_valid_RFC = predicted_valid_RFC\n",
    "            best_ets = est\n",
    "            best_depth = depth\n",
    "\n",
    "            \n",
    "#Вывод на экран показателей лучшей модели для валидационной выборки\n",
    "print(\"accuracy_score для RandomForest:\",accuracy_score(target_valid, best_predicted_valid_RFC))\n",
    "print(\"f1_score для RandomForest:\",f1_score(target_valid, best_predicted_valid_RFC))\n",
    "print(\"Полнота модели RandomForest:\", recall_score(target_valid, best_predicted_valid_RFC))\n",
    "print(\"Точность модели RandomForest:\", precision_score(target_valid, best_predicted_valid_RFC))\n",
    "print('Лучшее значение n_estimators', best_ets)\n",
    "print('Лучшее значение max_depth', best_depth)"
   ]
  },
  {
   "cell_type": "markdown",
   "metadata": {},
   "source": [
    "Модель показала устраивающее нас значение **f1_score = 0.60625**.<br> Обучим **константную модель** и расситаем ее accu_score."
   ]
  },
  {
   "cell_type": "code",
   "execution_count": 17,
   "metadata": {},
   "outputs": [
    {
     "name": "stdout",
     "output_type": "stream",
     "text": [
      "accuracy_score для RandomForest: 0.7926292629262927\n"
     ]
    }
   ],
   "source": [
    "#инициализация константной модели, все значения модели равны 0\n",
    "target_pred_constant = pd.Series([0]*len(target_valid))\n",
    "\n",
    "#вывод на экран результатов предсказания константной модели\n",
    "print(\"accuracy_score для RandomForest:\",accuracy_score(target_valid, target_pred_constant))"
   ]
  },
  {
   "cell_type": "markdown",
   "metadata": {},
   "source": [
    "Наша модель предсказывает лучше чем константная. 0.8613861386138614 против 0.7926292629262927. Есть к чему стремиться, но уже неплохо.<br> Расчитаем метрику **auc_roc**."
   ]
  },
  {
   "cell_type": "code",
   "execution_count": 18,
   "metadata": {
    "scrolled": true
   },
   "outputs": [
    {
     "name": "stdout",
     "output_type": "stream",
     "text": [
      "0.8378704738273045\n"
     ]
    }
   ],
   "source": [
    "#получим вероятности классов\n",
    "probabilities_valid = best_model_RFC.predict_proba(features_valid)\n",
    "\n",
    "#выделим вероятность положительного класса\n",
    "probabilities_one_valid = probabilities_valid[:, 1]\n",
    "\n",
    "#вычислим метрику auc_roc\n",
    "auc_roc = roc_auc_score(target_valid, probabilities_one_valid)\n",
    "\n",
    "print(auc_roc)"
   ]
  },
  {
   "cell_type": "markdown",
   "metadata": {},
   "source": [
    "Метрика **auc_roc = 0.8378704738273045**. Это не самый лучший показатель. Постараемся его улучшить. Постоим **ROC-кривую**"
   ]
  },
  {
   "cell_type": "code",
   "execution_count": 19,
   "metadata": {},
   "outputs": [
    {
     "data": {
      "image/png": "[encoded data removed]",
      "text/plain": [
       "<Figure size 432x288 with 1 Axes>"
      ]
     },
     "metadata": {
      "needs_background": "light"
     },
     "output_type": "display_data"
    }
   ],
   "source": [
    "#подготовим данные для построения ROC-кривой для RandomForest\n",
    "fpr, tpr, thresholds = roc_curve(target_valid, probabilities_one_valid)\n",
    "\n",
    "#подготовим данные для построения ROC-кривой для константной модели\n",
    "const_fpr, сonst_tpr, _ = roc_curve(target_valid, [0 for _ in range(len(target_valid))])\n",
    "\n",
    "#отричуем кривые\n",
    "pyplot.plot(fpr, tpr, linestyle='-', label='RandomForestClassifier')\n",
    "pyplot.plot(const_fpr, сonst_tpr, linestyle='--', label='Constant')\n",
    "# дадим имена осям\n",
    "pyplot.xlabel('False Positive Rate')\n",
    "pyplot.ylabel('True Positive Rate')\n",
    "#вывод на экран легенды\n",
    "pyplot.legend()\n",
    "#построим график\n",
    "pyplot.show()"
   ]
  },
  {
   "cell_type": "markdown",
   "metadata": {},
   "source": [
    "По графику ROC-кривой видно, что наша модель **предсказывает лучше константной**, но есть куда улучшать. Проверим работу нашей модели на тестовой выборке."
   ]
  },
  {
   "cell_type": "code",
   "execution_count": 20,
   "metadata": {},
   "outputs": [
    {
     "name": "stdout",
     "output_type": "stream",
     "text": [
      "accuracy_score для RandomForest: 0.8669598680593733\n",
      "f1_score для RandomForest: 0.5939597315436241\n",
      "Полнота модели RandomForest: 0.5042735042735043\n",
      "Точность модели RandomForest: 0.7224489795918367\n"
     ]
    }
   ],
   "source": [
    "#Вывод на экран показателей лучшей модели для тестовой выборки\n",
    "print(\"accuracy_score для RandomForest:\",accuracy_score(target_test, best_model_RFC.predict(features_test)))\n",
    "print(\"f1_score для RandomForest:\",f1_score(target_test, best_model_RFC.predict(features_test)))\n",
    "print(\"Полнота модели RandomForest:\", recall_score(target_test, best_model_RFC.predict(features_test)))\n",
    "print(\"Точность модели RandomForest:\", precision_score(target_test, best_model_RFC.predict(features_test)))"
   ]
  },
  {
   "cell_type": "markdown",
   "metadata": {},
   "source": [
    "На тестовой выборке **f1_score = 0.5939597315436241**, это больше порогового значения, которое нас устраивает. Посмотрим, можно ли еще улучшить модель сбалансировав классы. "
   ]
  },
  {
   "cell_type": "markdown",
   "metadata": {},
   "source": [
    "### DecisionTreeClassifier"
   ]
  },
  {
   "cell_type": "markdown",
   "metadata": {},
   "source": [
    "Изучим DecisionTreeClassifier. Для выбора лучшей модели подготовим цикл с изменением гиперпараметра depth."
   ]
  },
  {
   "cell_type": "code",
   "execution_count": 21,
   "metadata": {
    "scrolled": true
   },
   "outputs": [
    {
     "name": "stdout",
     "output_type": "stream",
     "text": [
      "accuracy_score для DecisionTree: 0.8536853685368537\n",
      "f1_score для DecisionTree: 0.5764331210191083\n",
      "Полнота модели DecisionTree: 0.48010610079575594\n",
      "Точность модели DecisionTree: 0.7211155378486056\n",
      "Лучшее значение max_depth 7\n"
     ]
    }
   ],
   "source": [
    "#инициализация переменных для хранения лучших результатов работы модели\n",
    "best_model_DTC = None\n",
    "best_result_DTC = 0\n",
    "best_predicted_valid_DTC = None\n",
    "best_depth_DTC = 0\n",
    "\n",
    "#цыкл подбора глубины дерева\n",
    "for depth in range(2, 60, 1):\n",
    "    #инициализация модели\n",
    "    model_DTC = DecisionTreeClassifier(random_state = 12345, max_depth=depth)\n",
    "    #обучение модели\n",
    "    model_DTC.fit(features_train, target_train)\n",
    "    \n",
    "    #предсказание модели на валивационной выборке\n",
    "    predicted_valid_DTC = model_DTC.predict(features_valid)\n",
    "    \n",
    "    #проверка качества модели, если новая модель лучше, сохраняем ее вместо предыдущей\n",
    "    if(f1_score(target_valid, predicted_valid_DTC) > best_result_DTC):\n",
    "        best_model_DTC = model_DTC\n",
    "        best_result_DTC = f1_score(target_valid, predicted_valid_DTC)\n",
    "        best_predicted_valid_DTC = predicted_valid_DTC\n",
    "        best_depth_DTC = depth\n",
    "\n",
    "#вывод на экран основных характеристик модели\n",
    "print(\"accuracy_score для DecisionTree:\",accuracy_score(target_valid, best_predicted_valid_DTC))\n",
    "print(\"f1_score для DecisionTree:\",f1_score(target_valid, best_predicted_valid_DTC))\n",
    "print(\"Полнота модели DecisionTree:\", recall_score(target_valid, best_predicted_valid_DTC))\n",
    "print(\"Точность модели DecisionTree:\", precision_score(target_valid, best_predicted_valid_DTC))\n",
    "print('Лучшее значение max_depth',best_depth_DTC)"
   ]
  },
  {
   "cell_type": "markdown",
   "metadata": {},
   "source": [
    "**f1_score = 0.5764331210191083**. Результат работы модели нас не устраивает, хотя она уже предсказывает лучше чем константная. Доля правильно найденых положительного класса маловата. расчитаем метрику **AUC-ROC**"
   ]
  },
  {
   "cell_type": "code",
   "execution_count": 22,
   "metadata": {},
   "outputs": [
    {
     "name": "stdout",
     "output_type": "stream",
     "text": [
      "0.8346049843812412\n"
     ]
    }
   ],
   "source": [
    "#получим вероятности классов\n",
    "probabilities_valid = best_model_DTC.predict_proba(features_valid)\n",
    "\n",
    "#выделим вероятность положительного класса\n",
    "probabilities_one_valid = probabilities_valid[:, 1]\n",
    "\n",
    "#вычислим метрику auc_roc\n",
    "auc_roc = roc_auc_score(target_valid, probabilities_one_valid)\n",
    "\n",
    "print(auc_roc)"
   ]
  },
  {
   "cell_type": "markdown",
   "metadata": {},
   "source": [
    "Значение **AUC-ROC = 0.8346049843812412**, что почти равно значению **AUC_ROC у модели RandomForestClassifier**. И значение accu_score почти такое же как у RandomForestClassifier. Однако по метрике f1_score модель все таки не дотягвает."
   ]
  },
  {
   "cell_type": "code",
   "execution_count": 23,
   "metadata": {},
   "outputs": [
    {
     "data": {
      "image/png": "[encoded data removed]",
      "text/plain": [
       "<Figure size 432x288 with 1 Axes>"
      ]
     },
     "metadata": {
      "needs_background": "light"
     },
     "output_type": "display_data"
    }
   ],
   "source": [
    "#подготовим данные для построения ROC-кривой для RandomForest\n",
    "fpr, tpr, thresholds = roc_curve(target_valid, probabilities_one_valid)\n",
    "\n",
    "#подготовим данные для построения ROC-кривой для константной модели\n",
    "const_fpr, сonst_tpr, thresholds = roc_curve(target_valid, [0 for _ in range(len(target_valid))])\n",
    "\n",
    "#отриcуем кривые\n",
    "pyplot.plot(fpr, tpr, linestyle='-', label='DecisionTreeClassifier')\n",
    "pyplot.plot(const_fpr, сonst_tpr, linestyle='--', label='Constant')\n",
    "# дадим имена осям\n",
    "pyplot.xlabel('False Positive Rate')\n",
    "pyplot.ylabel('True Positive Rate')\n",
    "#вывод на экран легенды\n",
    "pyplot.legend()\n",
    "#построим график\n",
    "pyplot.show()"
   ]
  },
  {
   "cell_type": "markdown",
   "metadata": {},
   "source": [
    "ROC-кривая у медели так же очень похожа на аналогичную у модели RandomForesClassifier, только менее сглаженная."
   ]
  },
  {
   "cell_type": "markdown",
   "metadata": {},
   "source": [
    "### LogisticRegression"
   ]
  },
  {
   "cell_type": "markdown",
   "metadata": {},
   "source": [
    "Изучим модель LogisticRegression."
   ]
  },
  {
   "cell_type": "code",
   "execution_count": 24,
   "metadata": {},
   "outputs": [
    {
     "name": "stdout",
     "output_type": "stream",
     "text": [
      "accuracy_score для LogisticRegression: 0.8085808580858086\n",
      "f1_score для LogisticRegression: 0.30400000000000005\n",
      "Полнота модели LogisticRegression: 0.20159151193633953\n",
      "Точность модели LogisticRegression: 0.6178861788617886\n"
     ]
    }
   ],
   "source": [
    "#инициализация модели\n",
    "model_LR = LogisticRegression(random_state=12345, solver='liblinear')\n",
    "\n",
    "#обучение модели\n",
    "model_LR.fit(features_train, target_train)\n",
    "\n",
    "#предсказание модели на валидационной выборке\n",
    "predicted_valid_LR = model_LR.predict(features_valid)\n",
    "\n",
    "#вывод основных параметров модели\n",
    "print(\"accuracy_score для LogisticRegression:\",accuracy_score(target_valid, predicted_valid_LR))\n",
    "print(\"f1_score для LogisticRegression:\",f1_score(target_valid, predicted_valid_LR))\n",
    "print(\"Полнота модели LogisticRegression:\", recall_score(target_valid, predicted_valid_LR))\n",
    "print(\"Точность модели LogisticRegression:\", precision_score(target_valid, predicted_valid_LR))"
   ]
  },
  {
   "cell_type": "markdown",
   "metadata": {},
   "source": [
    "Предсказания модели логистической регрессии самые худшие из рассмотреных вариантов. Они превосходят константную модель, но совсем не значительно. Доля правильно найденых положительного класса совсем маленькая. Расчитаем метрику **AUC-ROC**"
   ]
  },
  {
   "cell_type": "code",
   "execution_count": 25,
   "metadata": {},
   "outputs": [
    {
     "name": "stdout",
     "output_type": "stream",
     "text": [
      "0.7736191158144302\n"
     ]
    }
   ],
   "source": [
    "#получим вероятности классов\n",
    "probabilities_valid = model_LR.predict_proba(features_valid)\n",
    "\n",
    "#выделим вероятность положительного класса\n",
    "probabilities_one_valid = probabilities_valid[:, 1]\n",
    "\n",
    "#вычислим метрику auc_roc\n",
    "auc_roc = roc_auc_score(target_valid, probabilities_one_valid)\n",
    "\n",
    "print(auc_roc)"
   ]
  },
  {
   "cell_type": "markdown",
   "metadata": {},
   "source": [
    "У логистической регрессии самый плохой показатель метрики **AUC-ROC** из рассмотренных моделей. Построим **ROC-кривую**."
   ]
  },
  {
   "cell_type": "code",
   "execution_count": 26,
   "metadata": {},
   "outputs": [
    {
     "data": {
      "image/png": "[encoded data removed]",
      "text/plain": [
       "<Figure size 432x288 with 1 Axes>"
      ]
     },
     "metadata": {
      "needs_background": "light"
     },
     "output_type": "display_data"
    }
   ],
   "source": [
    "#подготовим данные для построения ROC-кривой для RandomForest\n",
    "fpr, tpr, thresholds = roc_curve(target_valid, probabilities_one_valid)\n",
    "\n",
    "#подготовим данные для построения ROC-кривой для константной модели\n",
    "const_fpr, сonst_tpr, thresholds = roc_curve(target_valid, [0 for _ in range(len(target_valid))])\n",
    "\n",
    "#отриcуем кривые\n",
    "pyplot.plot(fpr, tpr, linestyle='-', label='LogisticRegression')\n",
    "pyplot.plot(const_fpr, сonst_tpr, linestyle='--', label='Constant')\n",
    "# дадим имена осям\n",
    "pyplot.xlabel('False Positive Rate')\n",
    "pyplot.ylabel('True Positive Rate')\n",
    "#вывод на экран легенды\n",
    "pyplot.legend()\n",
    "#построим график\n",
    "pyplot.show()"
   ]
  },
  {
   "cell_type": "markdown",
   "metadata": {},
   "source": [
    "### Вывод"
   ]
  },
  {
   "cell_type": "markdown",
   "metadata": {},
   "source": [
    "Все модели предсказывают **лучше чем константная модель**, но только модель RandomForest смогла на валидационной и тестовой выборке получить устраивающее нас значение f1_score. Так же можно заметить, что модель RandomForest и отчасти DecisionTree более устойчивы к дисбалансу классов, чем LogisticRegression, у которой f1_score в раза меньше."
   ]
  },
  {
   "cell_type": "markdown",
   "metadata": {},
   "source": [
    "## Борьба с дисбалансом"
   ]
  },
  {
   "cell_type": "markdown",
   "metadata": {},
   "source": [
    "Для борьбы с дисбалансом попробуем различные методы: взвешивание классов, upsampling, downsampling. Подготовим дополнительные выборки для upsampling и downsampling."
   ]
  },
  {
   "cell_type": "markdown",
   "metadata": {},
   "source": [
    "### Подготовка дополнительных выборок upsampling и downsampling"
   ]
  },
  {
   "cell_type": "markdown",
   "metadata": {},
   "source": [
    "Подготовим downsampling выборку"
   ]
  },
  {
   "cell_type": "code",
   "execution_count": 27,
   "metadata": {},
   "outputs": [
    {
     "name": "stdout",
     "output_type": "stream",
     "text": [
      "(2251, 11)\n",
      "1    1126\n",
      "0    1125\n",
      "Name: Exited, dtype: int64\n"
     ]
    }
   ],
   "source": [
    "def downsample(features, target, fraction):\n",
    "    '''\n",
    "    На входе функция получает параметры, целевой столбец и долю необходимых включений строк\n",
    "    с отрицательным значением в целевом столбце\n",
    "    Возвращает таблице параметров и целевой столбец с приблизительно равным количеством\n",
    "    положительных и отрицательных значений в целевом столбце\n",
    "    '''\n",
    "    features_zeros = features[target == 0]\n",
    "    features_ones = features[target == 1]\n",
    "    target_zeros = target[target == 0]\n",
    "    target_ones = target[target == 1]\n",
    "\n",
    "    #уменьшение выборки параметров и целевого столбца за счет удаления части строк с отрицательным значением целевого столбца\n",
    "    features_downsampled = pd.concat(\n",
    "        [features_zeros.sample(frac=fraction, random_state=12345)] + [features_ones])\n",
    "    target_downsampled = pd.concat(\n",
    "        [target_zeros.sample(frac=fraction, random_state=12345)] + [target_ones])\n",
    "    \n",
    "    #перемешивание выборок\n",
    "    features_downsampled, target_downsampled = shuffle(\n",
    "        features_downsampled, target_downsampled, random_state=12345)\n",
    "    \n",
    "    return features_downsampled, target_downsampled\n",
    "\n",
    "features_downsampled, target_downsampled = downsample(features_train, target_train, 0.26)\n",
    "\n",
    "print(features_downsampled.shape)\n",
    "print(target_downsampled.value_counts())"
   ]
  },
  {
   "cell_type": "markdown",
   "metadata": {},
   "source": [
    "downsampling выборки готова. Подготовим upsampling выборку."
   ]
  },
  {
   "cell_type": "code",
   "execution_count": 28,
   "metadata": {},
   "outputs": [
    {
     "name": "stdout",
     "output_type": "stream",
     "text": [
      "(6756, 11)\n",
      "1    3378\n",
      "0    3378\n",
      "Name: Exited, dtype: int64\n"
     ]
    }
   ],
   "source": [
    "def upsample(features, target, repeat):\n",
    "    '''\n",
    "    На входе функция получает параметры, целевой столбец и число необходимых копий положительного класса\n",
    "    Возвращает таблице параметров и целевой столбец с приблизительно равным количеством\n",
    "    положительных и отрицательных значений в целевом столбце\n",
    "    '''\n",
    "    features_zeros = features[target == 0]\n",
    "    features_ones = features[target == 1]\n",
    "    target_zeros = target[target == 0]\n",
    "    target_ones = target[target == 1]\n",
    "    \n",
    "    #увеличение выборки параметров и целевого столбца за счет копий строк с положительным значением целевого столбца\n",
    "    features_upsampled = pd.concat([features_zeros] + [features_ones] * repeat)\n",
    "    target_upsampled = pd.concat([target_zeros] + [target_ones] * repeat)\n",
    "    \n",
    "    #перемешивание выборок\n",
    "    features_upsampled, target_upsampled = shuffle(\n",
    "        features_upsampled, target_upsampled, random_state=12345)\n",
    "    \n",
    "    return features_upsampled, target_upsampled\n",
    "\n",
    "#подготовка увеличенных выборок\n",
    "features_upsampled, target_upsampled = upsample(features_train, target_train, 3 )\n",
    "features_upsampled, target_upsampled = downsample(features_upsampled, target_upsampled, 0.7805)\n",
    "\n",
    "#вывод на экран размерности новой обучающей выборки\n",
    "print(features_upsampled.shape)\n",
    "print(target_upsampled.value_counts())"
   ]
  },
  {
   "cell_type": "markdown",
   "metadata": {},
   "source": [
    "upsampling выборка готова."
   ]
  },
  {
   "cell_type": "markdown",
   "metadata": {},
   "source": [
    "### RandomForestClassifier"
   ]
  },
  {
   "cell_type": "markdown",
   "metadata": {},
   "source": [
    "#### RandomForestClassifier(class_weight='balanced')"
   ]
  },
  {
   "cell_type": "markdown",
   "metadata": {},
   "source": [
    "Попробуем взвесить классы."
   ]
  },
  {
   "cell_type": "code",
   "execution_count": 29,
   "metadata": {},
   "outputs": [
    {
     "name": "stdout",
     "output_type": "stream",
     "text": [
      "accuracy_score для RandomForest: 0.8514851485148515\n",
      "f1_score для RandomForest: 0.6456692913385826\n",
      "Полнота модели RandomForest: 0.6525198938992043\n",
      "Точность модели RandomForest: 0.638961038961039\n",
      "Лучшее значение n_estimators 27\n",
      "Лучшее значение max_depth 10\n"
     ]
    }
   ],
   "source": [
    "#инициализация переменных для хранения лучших результатов работы модели\n",
    "best_model_RFC = None\n",
    "best_result = 0\n",
    "best_predicted_valid_RFC = None\n",
    "best_ets = 0\n",
    "best_depth = 0\n",
    "\n",
    "#цикл выбора лучшего значения n_estimators\n",
    "for est in range(1, 30, 2):\n",
    "    for depth in range (2, 26, 2):\n",
    "        #объявление модели\n",
    "        model_RFC = RandomForestClassifier(random_state = 12345, n_estimators = est, max_depth=depth, class_weight='balanced')\n",
    "        #обучение модели\n",
    "        model_RFC.fit(features_train, target_train)\n",
    "        \n",
    "        #получим предсказание модели\n",
    "        predicted_valid_RFC = model_RFC.predict(features_valid)\n",
    "        \n",
    "        #проверка, какая модель лучше. Если новая модель лучше, заполним переменные новыми значениями\n",
    "        if(f1_score(target_valid, predicted_valid_RFC) > best_result):\n",
    "            best_model_RFC = model_RFC\n",
    "            best_result = f1_score(target_valid, predicted_valid_RFC)\n",
    "            best_predicted_valid_RFC = predicted_valid_RFC\n",
    "            best_ets = est\n",
    "            best_depth = depth\n",
    "\n",
    "            \n",
    "#Вывод на экран показателей лучшей модели для валидационной выборки\n",
    "print(\"accuracy_score для RandomForest:\",accuracy_score(target_valid, best_predicted_valid_RFC))\n",
    "print(\"f1_score для RandomForest:\",f1_score(target_valid, best_predicted_valid_RFC))\n",
    "print(\"Полнота модели RandomForest:\", recall_score(target_valid, best_predicted_valid_RFC))\n",
    "print(\"Точность модели RandomForest:\", precision_score(target_valid, best_predicted_valid_RFC))\n",
    "print('Лучшее значение n_estimators', best_ets)\n",
    "print('Лучшее значение max_depth', best_depth)"
   ]
  },
  {
   "cell_type": "markdown",
   "metadata": {},
   "source": [
    "Результат работы алгоритма еще улучшился по сравнению с предыдущим вариантом без балансировки классов. расчитаем метрику **AUC_ROC**"
   ]
  },
  {
   "cell_type": "code",
   "execution_count": 30,
   "metadata": {},
   "outputs": [
    {
     "name": "stdout",
     "output_type": "stream",
     "text": [
      "0.8685391996789733\n"
     ]
    }
   ],
   "source": [
    "#получим вероятности классов\n",
    "probabilities_valid = best_model_RFC.predict_proba(features_valid)\n",
    "\n",
    "#выделим вероятность положительного класса\n",
    "probabilities_one_valid = probabilities_valid[:, 1]\n",
    "\n",
    "#вычислим метрику auc_roc\n",
    "auc_roc = roc_auc_score(target_valid, probabilities_one_valid)\n",
    "\n",
    "print(auc_roc)"
   ]
  },
  {
   "cell_type": "markdown",
   "metadata": {},
   "source": [
    "Метрика тоже выросла. Построим **ROC-кривую**"
   ]
  },
  {
   "cell_type": "code",
   "execution_count": 31,
   "metadata": {},
   "outputs": [
    {
     "data": {
      "image/png": "[encoded data removed]",
      "text/plain": [
       "<Figure size 432x288 with 1 Axes>"
      ]
     },
     "metadata": {
      "needs_background": "light"
     },
     "output_type": "display_data"
    }
   ],
   "source": [
    "#подготовим данные для построения ROC-кривой для RandomForest\n",
    "fpr, tpr, thresholds = roc_curve(target_valid, probabilities_one_valid)\n",
    "\n",
    "#подготовим данные для построения ROC-кривой для константной модели\n",
    "const_fpr, const_tpr, _ = roc_curve(target_valid, [0 for _ in range(len(target_valid))])\n",
    "\n",
    "#отричуем кривые\n",
    "pyplot.plot(fpr, tpr, linestyle='-', label='RandomForestClassifier')\n",
    "pyplot.plot(const_fpr, const_tpr, linestyle='--', label='Constant')\n",
    "# дадим имена осям\n",
    "pyplot.xlabel('False Positive Rate')\n",
    "pyplot.ylabel('True Positive Rate')\n",
    "#вывод на экран легенды\n",
    "pyplot.legend()\n",
    "#построим график\n",
    "pyplot.show()"
   ]
  },
  {
   "cell_type": "markdown",
   "metadata": {},
   "source": [
    "Модель со сбалансированными классами показывает **более хороший результат**, чем без взвешивания классов."
   ]
  },
  {
   "cell_type": "markdown",
   "metadata": {},
   "source": [
    "#### RandomForestClassifier(upsampling)"
   ]
  },
  {
   "cell_type": "markdown",
   "metadata": {},
   "source": [
    "Попробуем upsampling."
   ]
  },
  {
   "cell_type": "code",
   "execution_count": 32,
   "metadata": {},
   "outputs": [
    {
     "name": "stdout",
     "output_type": "stream",
     "text": [
      "accuracy_score для RandomForest: 0.845984598459846\n",
      "f1_score для RandomForest: 0.6325459317585301\n",
      "Полнота модели RandomForest: 0.6392572944297082\n",
      "Точность модели RandomForest: 0.625974025974026\n",
      "Лучшее значение n_estimators 25\n",
      "Лучшее значение max_depth 16\n"
     ]
    }
   ],
   "source": [
    "#инициализация переменных для хранения лучших результатов работы модели\n",
    "best_model_RFC = None\n",
    "best_result = 0\n",
    "best_predicted_valid_RFC = None\n",
    "best_ets = 0\n",
    "best_depth = 0\n",
    "\n",
    "#цикл выбора лучшего значения n_estimators\n",
    "for est in range(1, 30, 2):\n",
    "    for depth in range (2, 26, 2):\n",
    "        #объявление модели\n",
    "        model_RFC = RandomForestClassifier(random_state = 12345, n_estimators = est, max_depth=depth)\n",
    "        #обучение модели\n",
    "        model_RFC.fit(features_upsampled, target_upsampled)\n",
    "        \n",
    "        #получим предсказание модели\n",
    "        predicted_valid_RFC = model_RFC.predict(features_valid)\n",
    "        \n",
    "        #проверка, какая модель лучше. Если новая модель лучше, заполним переменные новыми значениями\n",
    "        if(f1_score(target_valid, predicted_valid_RFC) > best_result):\n",
    "            best_model_RFC = model_RFC\n",
    "            best_result = f1_score(target_valid, predicted_valid_RFC)\n",
    "            best_predicted_valid_RFC = predicted_valid_RFC\n",
    "            best_ets = est\n",
    "            best_depth = depth\n",
    "\n",
    "            \n",
    "#Вывод на экран показателей лучшей модели для валидационной выборки\n",
    "print(\"accuracy_score для RandomForest:\",accuracy_score(target_valid, best_predicted_valid_RFC))\n",
    "print(\"f1_score для RandomForest:\",f1_score(target_valid, best_predicted_valid_RFC))\n",
    "print(\"Полнота модели RandomForest:\", recall_score(target_valid, best_predicted_valid_RFC))\n",
    "print(\"Точность модели RandomForest:\", precision_score(target_valid, best_predicted_valid_RFC))\n",
    "print('Лучшее значение n_estimators', best_ets)\n",
    "print('Лучшее значение max_depth', best_depth)"
   ]
  },
  {
   "cell_type": "markdown",
   "metadata": {},
   "source": [
    "Модель показала **немного худшие результаты**, чем при class_weight='balanced'. Попробуем downsampling выборку."
   ]
  },
  {
   "cell_type": "markdown",
   "metadata": {},
   "source": [
    "#### RandomForestClassifier(downsampling)"
   ]
  },
  {
   "cell_type": "markdown",
   "metadata": {},
   "source": [
    "Попробуем downsampling."
   ]
  },
  {
   "cell_type": "code",
   "execution_count": 33,
   "metadata": {
    "scrolled": true
   },
   "outputs": [
    {
     "name": "stdout",
     "output_type": "stream",
     "text": [
      "accuracy_score для RandomForest: 0.7810781078107811\n",
      "f1_score для RandomForest: 0.597979797979798\n",
      "Полнота модели RandomForest: 0.7851458885941645\n",
      "Точность модели RandomForest: 0.4828711256117455\n",
      "Лучшее значение n_estimators 17\n",
      "Лучшее значение max_depth 8\n"
     ]
    }
   ],
   "source": [
    "#инициализация переменных для хранения лучших результатов работы модели\n",
    "best_model_RFC = None\n",
    "best_result = 0\n",
    "best_predicted_valid_RFC = None\n",
    "best_ets = 0\n",
    "best_depth = 0\n",
    "\n",
    "#цикл выбора лучшего значения n_estimators\n",
    "for est in range(1, 20, 2):\n",
    "    for depth in range (2, 26, 1):\n",
    "        #объявление модели\n",
    "        model_RFC = RandomForestClassifier(random_state = 12345, n_estimators = est, max_depth=depth)\n",
    "        #обучение модели\n",
    "        model_RFC.fit(features_downsampled, target_downsampled)\n",
    "        \n",
    "        #получим предсказание модели\n",
    "        predicted_valid_RFC = model_RFC.predict(features_valid)\n",
    "        \n",
    "        #проверка, какая модель лучше. Если новая модель лучше, заполним переменные новыми значениями\n",
    "        if(f1_score(target_valid, predicted_valid_RFC) > best_result):\n",
    "            best_model_RFC = model_RFC\n",
    "            best_result = f1_score(target_valid, predicted_valid_RFC)\n",
    "            best_predicted_valid_RFC = predicted_valid_RFC\n",
    "            best_ets = est\n",
    "            best_depth = depth\n",
    "\n",
    "            \n",
    "#Вывод на экран показателей лучшей модели для валидационной выборки\n",
    "print(\"accuracy_score для RandomForest:\",accuracy_score(target_valid, best_predicted_valid_RFC))\n",
    "print(\"f1_score для RandomForest:\",f1_score(target_valid, best_predicted_valid_RFC))\n",
    "print(\"Полнота модели RandomForest:\", recall_score(target_valid, best_predicted_valid_RFC))\n",
    "print(\"Точность модели RandomForest:\", precision_score(target_valid, best_predicted_valid_RFC))\n",
    "print('Лучшее значение n_estimators', best_ets)\n",
    "print('Лучшее значение max_depth', best_depth)"
   ]
  },
  {
   "cell_type": "markdown",
   "metadata": {},
   "source": [
    "А на downsampling выборке **качество модели ухудшилось**. Она стала предсказывать **хуже чем константная модель** и к тому же немного упал f1_score. Вероятно модель чуствительна к объему обучающей выборки."
   ]
  },
  {
   "cell_type": "markdown",
   "metadata": {},
   "source": [
    "#### Вывод"
   ]
  },
  {
   "cell_type": "markdown",
   "metadata": {},
   "source": [
    "Модель RandomForest **хорошо отреагировала на взвешивание классов и на upsampling**. А downsampling ухудшил качество модели."
   ]
  },
  {
   "cell_type": "markdown",
   "metadata": {},
   "source": [
    "### DecisionTreeClassifier"
   ]
  },
  {
   "cell_type": "markdown",
   "metadata": {},
   "source": [
    "#### DecisionTreeClassifier(class_weight='balanced')"
   ]
  },
  {
   "cell_type": "markdown",
   "metadata": {},
   "source": [
    "Попробуем взвешивание классов."
   ]
  },
  {
   "cell_type": "code",
   "execution_count": 34,
   "metadata": {},
   "outputs": [
    {
     "name": "stdout",
     "output_type": "stream",
     "text": [
      "accuracy_score для DecisionTree: 0.7783278327832783\n",
      "f1_score для DecisionTree: 0.5735449735449736\n",
      "Полнота модели DecisionTree: 0.7188328912466844\n",
      "Точность модели DecisionTree: 0.477112676056338\n",
      "Лучшее значение max_depth 5\n"
     ]
    }
   ],
   "source": [
    "#инициализация переменных для хранения лучших результатов работы модели\n",
    "best_model_DTC = None\n",
    "best_result_DTC = 0\n",
    "best_predicted_valid_DTC = None\n",
    "best_depth_DTC = 0\n",
    "\n",
    "#цыкл подбора глубины дерева\n",
    "for depth in range(2, 30, 1):\n",
    "    #инициализация модели\n",
    "    model_DTC = DecisionTreeClassifier(random_state = 12345, max_depth=depth, class_weight='balanced')\n",
    "    #обучение модели\n",
    "    model_DTC.fit(features_train, target_train)\n",
    "    \n",
    "    #предсказание модели на валивационной выборке\n",
    "    predicted_valid_DTC = model_DTC.predict(features_valid)\n",
    "    \n",
    "    #проверка качества модели, если новая модель лучше, сохраняем ее вместо предыдущей\n",
    "    if(f1_score(target_valid, predicted_valid_DTC) > best_result_DTC):\n",
    "        best_model_DTC = model_DTC\n",
    "        best_result_DTC = f1_score(target_valid, predicted_valid_DTC)\n",
    "        best_predicted_valid_DTC = predicted_valid_DTC\n",
    "        best_depth_DTC = depth\n",
    "\n",
    "#вывод на экран основных характеристик модели\n",
    "print(\"accuracy_score для DecisionTree:\",accuracy_score(target_valid, best_predicted_valid_DTC))\n",
    "print(\"f1_score для DecisionTree:\",f1_score(target_valid, best_predicted_valid_DTC))\n",
    "print(\"Полнота модели DecisionTree:\", recall_score(target_valid, best_predicted_valid_DTC))\n",
    "print(\"Точность модели DecisionTree:\", precision_score(target_valid, best_predicted_valid_DTC))\n",
    "print('Лучшее значение max_depth',best_depth_DTC)"
   ]
  },
  {
   "cell_type": "markdown",
   "metadata": {},
   "source": [
    "**Качество предсказания модели упало**. Показатели метрик тоже. Модель плохо отреагировала на взвешивание классов."
   ]
  },
  {
   "cell_type": "markdown",
   "metadata": {},
   "source": [
    "#### DecisionTreeClassifier(upsampling)"
   ]
  },
  {
   "cell_type": "markdown",
   "metadata": {},
   "source": [
    "Попробуем upsampling"
   ]
  },
  {
   "cell_type": "code",
   "execution_count": 35,
   "metadata": {
    "scrolled": false
   },
   "outputs": [
    {
     "name": "stdout",
     "output_type": "stream",
     "text": [
      "accuracy_score для DecisionTree: 0.7667766776677668\n",
      "f1_score для DecisionTree: 0.5801980198019802\n",
      "Полнота модели DecisionTree: 0.7771883289124668\n",
      "Точность модели DecisionTree: 0.4628751974723539\n",
      "Лучшее значение max_depth 5\n"
     ]
    }
   ],
   "source": [
    "#инициализация переменных для хранения лучших результатов работы модели\n",
    "best_model_DTC = None\n",
    "best_result_DTC = 0\n",
    "best_predicted_valid_DTC = None\n",
    "best_depth_DTC = 0\n",
    "\n",
    "#цыкл подбора глубины дерева\n",
    "for depth in range(2, 40, 1):\n",
    "    #инициализация модели\n",
    "    model_DTC = DecisionTreeClassifier(random_state = 12345, max_depth=depth)\n",
    "    #обучение модели\n",
    "    model_DTC.fit(features_upsampled, target_upsampled)\n",
    "    \n",
    "    #предсказание модели на валивационной выборке\n",
    "    predicted_valid_DTC = model_DTC.predict(features_valid)\n",
    "    \n",
    "    #проверка качества модели, если новая модель лучше, сохраняем ее вместо предыдущей\n",
    "    if(f1_score(target_valid, predicted_valid_DTC) > best_result_DTC):\n",
    "        best_model_DTC = model_DTC\n",
    "        best_result_DTC = f1_score(target_valid, predicted_valid_DTC)\n",
    "        best_predicted_valid_DTC = predicted_valid_DTC\n",
    "        best_depth_DTC = depth\n",
    "\n",
    "#вывод на экран основных характеристик модели\n",
    "print(\"accuracy_score для DecisionTree:\",accuracy_score(target_valid, best_predicted_valid_DTC))\n",
    "print(\"f1_score для DecisionTree:\",f1_score(target_valid, best_predicted_valid_DTC))\n",
    "print(\"Полнота модели DecisionTree:\", recall_score(target_valid, best_predicted_valid_DTC))\n",
    "print(\"Точность модели DecisionTree:\", precision_score(target_valid, best_predicted_valid_DTC))\n",
    "print('Лучшее значение max_depth',best_depth_DTC)"
   ]
  },
  {
   "cell_type": "markdown",
   "metadata": {},
   "source": [
    "Модель одинаково плохо отреагировала на взвешивание классов и на upsampling"
   ]
  },
  {
   "cell_type": "markdown",
   "metadata": {},
   "source": [
    "#### DecisionTreeClassifier(downsampling)"
   ]
  },
  {
   "cell_type": "markdown",
   "metadata": {},
   "source": [
    "Попробуем downsampling"
   ]
  },
  {
   "cell_type": "code",
   "execution_count": 36,
   "metadata": {},
   "outputs": [
    {
     "name": "stdout",
     "output_type": "stream",
     "text": [
      "accuracy_score для DecisionTree: 0.7711771177117712\n",
      "f1_score для DecisionTree: 0.574642126789366\n",
      "Полнота модели DecisionTree: 0.7453580901856764\n",
      "Точность модели DecisionTree: 0.46755407653910147\n",
      "Лучшее значение max_depth 7\n"
     ]
    }
   ],
   "source": [
    "#инициализация переменных для хранения лучших результатов работы модели\n",
    "best_model_DTC = None\n",
    "best_result_DTC = 0\n",
    "best_predicted_valid_DTC = None\n",
    "best_depth_DTC = 0\n",
    "\n",
    "#цыкл подбора глубины дерева\n",
    "for depth in range(2, 40, 1):\n",
    "    #инициализация модели\n",
    "    model_DTC = DecisionTreeClassifier(random_state = 12345, max_depth=depth)\n",
    "    #обучение модели\n",
    "    model_DTC.fit(features_downsampled, target_downsampled)\n",
    "    \n",
    "    #предсказание модели на валивационной выборке\n",
    "    predicted_valid_DTC = model_DTC.predict(features_valid)\n",
    "    \n",
    "    #проверка качества модели, если новая модель лучше, сохраняем ее вместо предыдущей\n",
    "    if(f1_score(target_valid, predicted_valid_DTC) > best_result_DTC):\n",
    "        best_model_DTC = model_DTC\n",
    "        best_result_DTC = f1_score(target_valid, predicted_valid_DTC)\n",
    "        best_predicted_valid_DTC = predicted_valid_DTC\n",
    "        best_depth_DTC = depth\n",
    "\n",
    "#вывод на экран основных характеристик модели\n",
    "print(\"accuracy_score для DecisionTree:\",accuracy_score(target_valid, best_predicted_valid_DTC))\n",
    "print(\"f1_score для DecisionTree:\",f1_score(target_valid, best_predicted_valid_DTC))\n",
    "print(\"Полнота модели DecisionTree:\", recall_score(target_valid, best_predicted_valid_DTC))\n",
    "print(\"Точность модели DecisionTree:\", precision_score(target_valid, best_predicted_valid_DTC))\n",
    "print('Лучшее значение max_depth',best_depth_DTC)"
   ]
  },
  {
   "cell_type": "markdown",
   "metadata": {},
   "source": [
    "#### Вывод"
   ]
  },
  {
   "cell_type": "markdown",
   "metadata": {},
   "source": [
    "Модель **DecisionTreeClassifier плохо отреагировала на все три варианта балансировки**. Во всех трех случаях, качество предсказания модели стало хуже чем у константной модели."
   ]
  },
  {
   "cell_type": "markdown",
   "metadata": {},
   "source": [
    "### LogisticRegression"
   ]
  },
  {
   "cell_type": "markdown",
   "metadata": {},
   "source": [
    "#### LogisticRegression(class_weight='balanced')"
   ]
  },
  {
   "cell_type": "markdown",
   "metadata": {},
   "source": [
    "Попробуем сбалансировать LogisticRegression. Добавим class_weight='balanced' в объявлнение модели"
   ]
  },
  {
   "cell_type": "code",
   "execution_count": 37,
   "metadata": {},
   "outputs": [
    {
     "name": "stdout",
     "output_type": "stream",
     "text": [
      "accuracy_score для LogisticRegression: 0.7090209020902091\n",
      "f1_score для LogisticRegression: 0.509731232622799\n",
      "Полнота модели LogisticRegression: 0.7294429708222812\n",
      "Точность модели LogisticRegression: 0.39173789173789175\n"
     ]
    }
   ],
   "source": [
    "model_LR = LogisticRegression(random_state=12345, solver='liblinear', class_weight = 'balanced')\n",
    "\n",
    "model_LR.fit(features_train, target_train)\n",
    "\n",
    "predicted_valid_LR = model_LR.predict(features_valid)\n",
    "\n",
    "print(\"accuracy_score для LogisticRegression:\",accuracy_score(target_valid, predicted_valid_LR))\n",
    "print(\"f1_score для LogisticRegression:\",f1_score(target_valid, predicted_valid_LR))\n",
    "print(\"Полнота модели LogisticRegression:\", recall_score(target_valid, predicted_valid_LR))\n",
    "print(\"Точность модели LogisticRegression:\", precision_score(target_valid, predicted_valid_LR))\n"
   ]
  },
  {
   "cell_type": "markdown",
   "metadata": {},
   "source": [
    "Значение **f1_score увеличилось**, однако качество предсказаний стало хуже. Причем стало **хуже, чем у константной модели**."
   ]
  },
  {
   "cell_type": "markdown",
   "metadata": {},
   "source": [
    "#### LogisticRegression(upsampling)"
   ]
  },
  {
   "cell_type": "markdown",
   "metadata": {},
   "source": [
    "Попробуем upsampling."
   ]
  },
  {
   "cell_type": "code",
   "execution_count": 38,
   "metadata": {},
   "outputs": [
    {
     "name": "stdout",
     "output_type": "stream",
     "text": [
      "accuracy_score для LogisticRegression: 0.7095709570957096\n",
      "f1_score для LogisticRegression: 0.5083798882681564\n",
      "Полнота модели LogisticRegression: 0.7241379310344828\n",
      "Точность модели LogisticRegression: 0.3916786226685796\n"
     ]
    }
   ],
   "source": [
    "model_LR = LogisticRegression(random_state=12345, solver='liblinear')\n",
    "\n",
    "model_LR.fit(features_upsampled, target_upsampled)\n",
    "\n",
    "predicted_valid_LR = model_LR.predict(features_valid)\n",
    "\n",
    "print(\"accuracy_score для LogisticRegression:\",accuracy_score(target_valid, predicted_valid_LR))\n",
    "print(\"f1_score для LogisticRegression:\",f1_score(target_valid, predicted_valid_LR))\n",
    "print(\"Полнота модели LogisticRegression:\", recall_score(target_valid, predicted_valid_LR))\n",
    "print(\"Точность модели LogisticRegression:\", precision_score(target_valid, predicted_valid_LR))\n"
   ]
  },
  {
   "cell_type": "markdown",
   "metadata": {},
   "source": [
    "**f1-score подрос**, но качество предсказаний модели упало."
   ]
  },
  {
   "cell_type": "markdown",
   "metadata": {},
   "source": [
    "#### LogisticRegression(downsampling)"
   ]
  },
  {
   "cell_type": "markdown",
   "metadata": {},
   "source": [
    "Попробуем downsampling."
   ]
  },
  {
   "cell_type": "code",
   "execution_count": 39,
   "metadata": {},
   "outputs": [
    {
     "name": "stdout",
     "output_type": "stream",
     "text": [
      "accuracy_score для LogisticRegression: 0.7002200220022002\n",
      "f1_score для LogisticRegression: 0.502283105022831\n",
      "Полнота модели LogisticRegression: 0.7294429708222812\n",
      "Точность модели LogisticRegression: 0.383008356545961\n"
     ]
    }
   ],
   "source": [
    "model_LR = LogisticRegression(random_state=12345, solver='liblinear')\n",
    "\n",
    "model_LR.fit(features_downsampled, target_downsampled)\n",
    "\n",
    "predicted_valid_LR = model_LR.predict(features_valid)\n",
    "\n",
    "print(\"accuracy_score для LogisticRegression:\",accuracy_score(target_valid, predicted_valid_LR))\n",
    "print(\"f1_score для LogisticRegression:\",f1_score(target_valid, predicted_valid_LR))\n",
    "print(\"Полнота модели LogisticRegression:\", recall_score(target_valid, predicted_valid_LR))\n",
    "print(\"Точность модели LogisticRegression:\", precision_score(target_valid, predicted_valid_LR))\n"
   ]
  },
  {
   "cell_type": "markdown",
   "metadata": {},
   "source": [
    "#### Вывод"
   ]
  },
  {
   "cell_type": "markdown",
   "metadata": {},
   "source": [
    "**LogisticRegression плохо отреагировала на балансировку выборки**. Качество предсказаний упало ниже чем у константной модели."
   ]
  },
  {
   "cell_type": "markdown",
   "metadata": {},
   "source": [
    "## Тестирование модели"
   ]
  },
  {
   "cell_type": "markdown",
   "metadata": {},
   "source": [
    "### Первое тестирование"
   ]
  },
  {
   "cell_type": "markdown",
   "metadata": {},
   "source": [
    "Лучше всего себя показала модель RandomForest. Поэтому для финального тестирования будем использовать ее. Ранее эта модель показала, что при уменьшении выборки, качество предсказаний упало. Попробуем наоборот увеличить обучающую выборку, за счет присоединения валидационной выборки к обучающей. с последующим взвешиванием классов. Гиперпараметры возьмем из предыдущего исследования лучших параметров n_estimators 27 и max_depth 10"
   ]
  },
  {
   "cell_type": "code",
   "execution_count": 40,
   "metadata": {},
   "outputs": [
    {
     "name": "stdout",
     "output_type": "stream",
     "text": [
      "accuracy_score для RandomForest: 0.8378229796591534\n",
      "f1_score для RandomForest: 0.605087014725569\n",
      "Полнота модели RandomForest: 0.6438746438746439\n",
      "Точность модели RandomForest: 0.5707070707070707\n",
      "Текущее значение n_estimators 27\n",
      "Текущее значение max_depth 10\n"
     ]
    }
   ],
   "source": [
    "#объявление модели\n",
    "model_RFC = RandomForestClassifier(random_state = 12345, n_estimators = 27, max_depth=10, class_weight='balanced')\n",
    "#обучение модели\n",
    "model_RFC.fit(features_train.append(features_valid), target_train.append(target_valid))\n",
    "        \n",
    "#получим предсказание модели\n",
    "predicted_valid_RFC = model_RFC.predict(features_test)\n",
    "\n",
    "            \n",
    "#Вывод на экран показателей лучшей модели для валидационной выборки\n",
    "print(\"accuracy_score для RandomForest:\",accuracy_score(target_test, predicted_valid_RFC))\n",
    "print(\"f1_score для RandomForest:\",f1_score(target_test, predicted_valid_RFC))\n",
    "print(\"Полнота модели RandomForest:\", recall_score(target_test, predicted_valid_RFC))\n",
    "print(\"Точность модели RandomForest:\", precision_score(target_test, predicted_valid_RFC))\n",
    "print('Текущее значение n_estimators', 27)\n",
    "print('Текущее значение max_depth', 10)"
   ]
  },
  {
   "cell_type": "markdown",
   "metadata": {},
   "source": [
    "Показатели на тестовой выборке немного просели, но все еще находятся в устраивающем нас диапазоне. f1_score для RandomForest: 0.605087014725569 (нас устраивает по условию) и accuracy_score для RandomForest: 0.8378229796591534 (это лучше чем у константной модели)."
   ]
  },
  {
   "cell_type": "markdown",
   "metadata": {},
   "source": [
    "Все показатели заметно выросли. Измерим метрику **AUC-ROC**"
   ]
  },
  {
   "cell_type": "code",
   "execution_count": 41,
   "metadata": {
    "scrolled": false
   },
   "outputs": [
    {
     "name": "stdout",
     "output_type": "stream",
     "text": [
      "0.8594569421102719\n"
     ]
    }
   ],
   "source": [
    "#получим вероятности классов\n",
    "probabilities_valid = best_model_RFC.predict_proba(features_valid)\n",
    "\n",
    "#выделим вероятность положительного класса\n",
    "probabilities_one_valid = probabilities_valid[:, 1]\n",
    "\n",
    "#вычислим метрику auc_roc\n",
    "auc_roc = roc_auc_score(target_valid, probabilities_one_valid)\n",
    "\n",
    "print(auc_roc)"
   ]
  },
  {
   "cell_type": "markdown",
   "metadata": {},
   "source": [
    "Метрика сопоставима с результатами на валидации. Постоим **ROC-кривую**"
   ]
  },
  {
   "cell_type": "code",
   "execution_count": 42,
   "metadata": {},
   "outputs": [
    {
     "data": {
      "image/png": "[encoded data removed]",
      "text/plain": [
       "<Figure size 432x288 with 1 Axes>"
      ]
     },
     "metadata": {
      "needs_background": "light"
     },
     "output_type": "display_data"
    }
   ],
   "source": [
    "#подготовим данные для построения ROC-кривой для RandomForest\n",
    "fpr, tpr, thresholds = roc_curve(target_valid, probabilities_one_valid)\n",
    "\n",
    "#подготовим данные для построения ROC-кривой для константной модели\n",
    "const_fpr, сonst_tpr, _ = roc_curve(target_valid, [0 for _ in range(len(target_valid))])\n",
    "\n",
    "#отричуем кривые\n",
    "pyplot.plot(fpr, tpr, linestyle='-', label='RandomForestClassifier')\n",
    "pyplot.plot(const_fpr, сonst_tpr, linestyle='--', label='Constant')\n",
    "# дадим имена осям\n",
    "pyplot.xlabel('False Positive Rate')\n",
    "pyplot.ylabel('True Positive Rate')\n",
    "#вывод на экран легенды\n",
    "pyplot.legend()\n",
    "#построим график\n",
    "pyplot.show()"
   ]
  },
  {
   "cell_type": "markdown",
   "metadata": {},
   "source": [
    "ROC-кривая почти не отличается от кривой с валидационной выборки."
   ]
  },
  {
   "cell_type": "markdown",
   "metadata": {},
   "source": [
    "### Вывод"
   ]
  },
  {
   "cell_type": "markdown",
   "metadata": {},
   "source": [
    "Модель RandomForestClassifier достигла необходимых нам метрик. "
   ]
  },
  {
   "cell_type": "markdown",
   "metadata": {},
   "source": [
    "## Вывод"
   ]
  },
  {
   "cell_type": "markdown",
   "metadata": {},
   "source": [
    "Изначальная таблица содержала **10000 строк, 900 из которых были удалены**, поскольку в них были пропуски в местах с  важной для прогнозирования информацией. Так же были **удалены три столбца**, которые не были необходимы для обучения модели. Затем Таблица была **разбита на признаки и целевой столбец**. И Все признаки **прошли маштабирование**.<br><br>\n",
    "Модель **RandomForestClassifier сразу смогла получить удовлетворяющий условиям исследавания результат в метрике f1_score** и получить accu_score лучше чем у константной модели. **DecisionTreeClassifier и LogisticRegression показали себя хуже в разрезе f1_score**, но тем не менее качество предсказание моделей было выше чем у константной.<br><br>\n",
    "**Модель RandomForestClassifier очень хорошо отреагировала на взвешивание классов и на upsamling**. А на downsampling модель отрегаировала снижением метрик. Из чего можно сделать вывод, что модель чуствительна к размеру выборки.<br>\n",
    "**Модель DecisionTreeClassifier отреагировала на взвешивание, upsampling и downsamplin небольшим падением качества предсказаний**. Модель стала предсказывать **хуже чем константная**.<br>\n",
    "**Модель LogisticRegression** при применении методов балансировки показала **улучшение f1_score**, но вмести с ним и резкое **падение качества предсказний**. Начав предсказывать на порядок **хуже константной модели**.<br>\n",
    "Я думаю что DecisionTreeClassifier и LogisticRegression лучше отреагировали бы на увеличение обучающей выборки, чем на балансироку классов.\n",
    "<br><br>\n",
    "**Финально было проведено тестирование**. В тестировании была использована модель **RandomForesClassifier**. **Обучающая выборка была увеличена за счет валидационной** и было произведено взвешивание классов. В тесте модель **показала сравнимые результаты, которые были не многим ниже, чем изначалные**, но совсем не значительно. В ходе исследования был сделан **вывод, что увеличение обучающей выборки приводит к улучшению качества обучения при применении модели RandomForestClassifier**. И хотя она объективно самая медленная из участвовавших в исследовании, но ее результаты самые высокие.\n"
   ]
  }
 ],
 "metadata": {
  "ExecuteTimeLog": [
   {
    "duration": 585,
    "start_time": "2022-02-09T08:00:35.177Z"
   },
   {
    "duration": 30,
    "start_time": "2022-02-09T08:01:43.301Z"
   },
   {
    "duration": 35,
    "start_time": "2022-02-09T08:01:52.569Z"
   },
   {
    "duration": 31,
    "start_time": "2022-02-09T08:05:31.237Z"
   },
   {
    "duration": 746,
    "start_time": "2022-02-09T08:07:00.485Z"
   },
   {
    "duration": 10,
    "start_time": "2022-02-09T08:07:06.213Z"
   },
   {
    "duration": 10,
    "start_time": "2022-02-09T08:07:34.917Z"
   },
   {
    "duration": 12,
    "start_time": "2022-02-09T08:09:17.009Z"
   },
   {
    "duration": 10,
    "start_time": "2022-02-09T08:09:27.177Z"
   },
   {
    "duration": 10,
    "start_time": "2022-02-09T08:09:34.821Z"
   },
   {
    "duration": 10,
    "start_time": "2022-02-09T08:09:46.373Z"
   },
   {
    "duration": 44,
    "start_time": "2022-02-09T08:12:46.354Z"
   },
   {
    "duration": 345,
    "start_time": "2022-02-09T15:20:43.839Z"
   },
   {
    "duration": 700,
    "start_time": "2022-02-09T15:20:54.983Z"
   },
   {
    "duration": 53,
    "start_time": "2022-02-09T15:20:55.686Z"
   },
   {
    "duration": 14,
    "start_time": "2022-02-09T15:20:57.068Z"
   },
   {
    "duration": 63,
    "start_time": "2022-02-09T15:20:57.979Z"
   },
   {
    "duration": 435,
    "start_time": "2022-02-09T15:20:59.104Z"
   },
   {
    "duration": 14,
    "start_time": "2022-02-09T15:21:15.288Z"
   },
   {
    "duration": 14,
    "start_time": "2022-02-09T15:28:32.373Z"
   },
   {
    "duration": 18,
    "start_time": "2022-02-09T15:32:32.729Z"
   },
   {
    "duration": 16,
    "start_time": "2022-02-09T15:32:42.190Z"
   },
   {
    "duration": 307,
    "start_time": "2022-02-09T15:32:53.981Z"
   },
   {
    "duration": 304,
    "start_time": "2022-02-09T15:32:57.569Z"
   },
   {
    "duration": 374,
    "start_time": "2022-02-09T15:33:11.507Z"
   },
   {
    "duration": 17,
    "start_time": "2022-02-09T15:33:19.937Z"
   },
   {
    "duration": 28,
    "start_time": "2022-02-09T15:51:46.305Z"
   },
   {
    "duration": 447,
    "start_time": "2022-02-09T15:55:48.993Z"
   },
   {
    "duration": 7,
    "start_time": "2022-02-09T15:55:59.374Z"
   },
   {
    "duration": 6,
    "start_time": "2022-02-09T15:57:08.875Z"
   },
   {
    "duration": 7,
    "start_time": "2022-02-09T15:57:46.039Z"
   },
   {
    "duration": 285,
    "start_time": "2022-02-09T16:08:07.816Z"
   },
   {
    "duration": 672,
    "start_time": "2022-02-09T16:08:18.648Z"
   },
   {
    "duration": 12,
    "start_time": "2022-02-09T16:08:28.085Z"
   },
   {
    "duration": 12,
    "start_time": "2022-02-09T16:09:10.277Z"
   },
   {
    "duration": 10,
    "start_time": "2022-02-09T16:09:46.346Z"
   },
   {
    "duration": 12,
    "start_time": "2022-02-09T16:12:03.597Z"
   },
   {
    "duration": 4,
    "start_time": "2022-02-09T16:15:28.420Z"
   },
   {
    "duration": 4,
    "start_time": "2022-02-09T16:15:33.107Z"
   },
   {
    "duration": 66,
    "start_time": "2022-02-09T16:23:55.140Z"
   },
   {
    "duration": 36,
    "start_time": "2022-02-09T16:24:09.624Z"
   },
   {
    "duration": 39,
    "start_time": "2022-02-09T16:25:33.836Z"
   },
   {
    "duration": 1746,
    "start_time": "2022-02-09T16:26:03.014Z"
   },
   {
    "duration": 73,
    "start_time": "2022-02-09T16:26:04.763Z"
   },
   {
    "duration": 25,
    "start_time": "2022-02-09T16:26:04.840Z"
   },
   {
    "duration": 91,
    "start_time": "2022-02-09T16:26:04.869Z"
   },
   {
    "duration": 20,
    "start_time": "2022-02-09T16:26:04.964Z"
   },
   {
    "duration": 6,
    "start_time": "2022-02-09T16:26:04.988Z"
   },
   {
    "duration": 8,
    "start_time": "2022-02-09T16:26:04.996Z"
   },
   {
    "duration": 14,
    "start_time": "2022-02-09T16:26:05.048Z"
   },
   {
    "duration": 28,
    "start_time": "2022-02-09T16:26:05.064Z"
   },
   {
    "duration": 8,
    "start_time": "2022-02-09T16:26:05.095Z"
   },
   {
    "duration": 46,
    "start_time": "2022-02-09T16:26:05.105Z"
   },
   {
    "duration": 12,
    "start_time": "2022-02-09T16:26:05.154Z"
   },
   {
    "duration": 61,
    "start_time": "2022-02-09T16:26:05.169Z"
   },
   {
    "duration": 52,
    "start_time": "2022-02-09T16:26:49.390Z"
   },
   {
    "duration": 44,
    "start_time": "2022-02-09T16:27:40.289Z"
   },
   {
    "duration": 282,
    "start_time": "2022-02-09T18:39:08.431Z"
   },
   {
    "duration": 1079,
    "start_time": "2022-02-09T18:39:16.583Z"
   },
   {
    "duration": 40,
    "start_time": "2022-02-09T18:39:18.259Z"
   },
   {
    "duration": 11,
    "start_time": "2022-02-09T18:39:18.728Z"
   },
   {
    "duration": 41,
    "start_time": "2022-02-09T18:39:19.082Z"
   },
   {
    "duration": 13,
    "start_time": "2022-02-09T18:39:19.272Z"
   },
   {
    "duration": 6,
    "start_time": "2022-02-09T18:39:19.901Z"
   },
   {
    "duration": 5,
    "start_time": "2022-02-09T18:39:20.108Z"
   },
   {
    "duration": 10,
    "start_time": "2022-02-09T18:39:21.138Z"
   },
   {
    "duration": 18,
    "start_time": "2022-02-09T18:39:21.551Z"
   },
   {
    "duration": 6,
    "start_time": "2022-02-09T18:39:21.771Z"
   },
   {
    "duration": 8,
    "start_time": "2022-02-09T18:39:21.983Z"
   },
   {
    "duration": 8,
    "start_time": "2022-02-09T18:39:22.210Z"
   },
   {
    "duration": 25,
    "start_time": "2022-02-09T18:39:22.679Z"
   },
   {
    "duration": 3,
    "start_time": "2022-02-09T18:39:24.040Z"
   },
   {
    "duration": 4,
    "start_time": "2022-02-09T18:40:03.557Z"
   },
   {
    "duration": 310,
    "start_time": "2022-02-09T18:42:53.453Z"
   },
   {
    "duration": 332,
    "start_time": "2022-02-09T18:43:20.221Z"
   },
   {
    "duration": 373,
    "start_time": "2022-02-09T18:43:48.840Z"
   },
   {
    "duration": 264,
    "start_time": "2022-02-09T18:51:15.299Z"
   },
   {
    "duration": 258,
    "start_time": "2022-02-09T18:51:22.474Z"
   },
   {
    "duration": 80,
    "start_time": "2022-02-09T18:51:51.062Z"
   },
   {
    "duration": 87,
    "start_time": "2022-02-09T18:51:56.742Z"
   },
   {
    "duration": 88,
    "start_time": "2022-02-09T18:52:08.014Z"
   },
   {
    "duration": 259,
    "start_time": "2022-02-09T18:52:14.606Z"
   },
   {
    "duration": 274,
    "start_time": "2022-02-09T18:52:37.010Z"
   },
   {
    "duration": 10,
    "start_time": "2022-02-09T18:52:54.005Z"
   },
   {
    "duration": 5,
    "start_time": "2022-02-09T18:55:18.538Z"
   },
   {
    "duration": 35,
    "start_time": "2022-02-09T18:55:18.794Z"
   },
   {
    "duration": 11,
    "start_time": "2022-02-09T18:55:19.198Z"
   },
   {
    "duration": 39,
    "start_time": "2022-02-09T18:55:20.225Z"
   },
   {
    "duration": 11,
    "start_time": "2022-02-09T18:55:20.811Z"
   },
   {
    "duration": 5,
    "start_time": "2022-02-09T18:55:22.743Z"
   },
   {
    "duration": 5,
    "start_time": "2022-02-09T18:55:23.139Z"
   },
   {
    "duration": 337,
    "start_time": "2022-02-09T18:55:39.782Z"
   },
   {
    "duration": 12,
    "start_time": "2022-02-09T18:55:50.779Z"
   },
   {
    "duration": 10,
    "start_time": "2022-02-09T18:55:58.126Z"
   },
   {
    "duration": 19,
    "start_time": "2022-02-09T18:56:05.734Z"
   },
   {
    "duration": 5,
    "start_time": "2022-02-09T18:56:07.673Z"
   },
   {
    "duration": 8,
    "start_time": "2022-02-09T18:56:08.727Z"
   },
   {
    "duration": 7,
    "start_time": "2022-02-09T18:56:09.812Z"
   },
   {
    "duration": 22,
    "start_time": "2022-02-09T18:56:15.163Z"
   },
   {
    "duration": 35,
    "start_time": "2022-02-09T18:58:05.099Z"
   },
   {
    "duration": 35,
    "start_time": "2022-02-09T18:59:03.104Z"
   },
   {
    "duration": 34,
    "start_time": "2022-02-09T18:59:16.536Z"
   },
   {
    "duration": 33,
    "start_time": "2022-02-09T19:48:48.946Z"
   },
   {
    "duration": 33,
    "start_time": "2022-02-09T19:49:15.694Z"
   },
   {
    "duration": 33,
    "start_time": "2022-02-09T19:49:31.719Z"
   },
   {
    "duration": 5,
    "start_time": "2022-02-09T19:52:20.102Z"
   },
   {
    "duration": 253,
    "start_time": "2022-02-09T19:52:45.687Z"
   },
   {
    "duration": 8,
    "start_time": "2022-02-09T19:53:03.564Z"
   },
   {
    "duration": 6,
    "start_time": "2022-02-09T19:53:15.157Z"
   },
   {
    "duration": 4,
    "start_time": "2022-02-09T19:55:56.767Z"
   },
   {
    "duration": 278,
    "start_time": "2022-02-09T19:56:07.123Z"
   },
   {
    "duration": 37,
    "start_time": "2022-02-09T19:56:14.870Z"
   },
   {
    "duration": 36,
    "start_time": "2022-02-09T19:57:16.898Z"
   },
   {
    "duration": 318,
    "start_time": "2022-02-09T19:58:54.128Z"
   },
   {
    "duration": 3,
    "start_time": "2022-02-09T19:59:02.188Z"
   },
   {
    "duration": 38,
    "start_time": "2022-02-09T19:59:06.432Z"
   },
   {
    "duration": 14,
    "start_time": "2022-02-09T20:10:30.003Z"
   },
   {
    "duration": 6,
    "start_time": "2022-02-09T20:10:47.550Z"
   },
   {
    "duration": 3,
    "start_time": "2022-02-09T20:11:58.823Z"
   },
   {
    "duration": 37,
    "start_time": "2022-02-09T20:15:52.823Z"
   },
   {
    "duration": 285,
    "start_time": "2022-02-09T20:16:15.075Z"
   },
   {
    "duration": 18,
    "start_time": "2022-02-09T20:16:24.339Z"
   },
   {
    "duration": 1089,
    "start_time": "2022-02-10T12:25:09.631Z"
   },
   {
    "duration": 42,
    "start_time": "2022-02-10T12:25:10.722Z"
   },
   {
    "duration": 11,
    "start_time": "2022-02-10T12:25:10.766Z"
   },
   {
    "duration": 49,
    "start_time": "2022-02-10T12:25:10.849Z"
   },
   {
    "duration": 12,
    "start_time": "2022-02-10T12:25:11.050Z"
   },
   {
    "duration": 6,
    "start_time": "2022-02-10T12:25:11.667Z"
   },
   {
    "duration": 4,
    "start_time": "2022-02-10T12:25:11.877Z"
   },
   {
    "duration": 12,
    "start_time": "2022-02-10T12:25:12.896Z"
   },
   {
    "duration": 10,
    "start_time": "2022-02-10T12:25:13.336Z"
   },
   {
    "duration": 18,
    "start_time": "2022-02-10T12:25:13.840Z"
   },
   {
    "duration": 6,
    "start_time": "2022-02-10T12:25:14.104Z"
   },
   {
    "duration": 8,
    "start_time": "2022-02-10T12:25:14.356Z"
   },
   {
    "duration": 8,
    "start_time": "2022-02-10T12:25:14.604Z"
   },
   {
    "duration": 24,
    "start_time": "2022-02-10T12:25:15.084Z"
   },
   {
    "duration": 39,
    "start_time": "2022-02-10T12:25:17.220Z"
   },
   {
    "duration": 5,
    "start_time": "2022-02-10T12:25:21.468Z"
   },
   {
    "duration": 24,
    "start_time": "2022-02-10T12:25:24.416Z"
   },
   {
    "duration": 499,
    "start_time": "2022-02-10T12:45:51.379Z"
   },
   {
    "duration": 527,
    "start_time": "2022-02-10T12:46:34.351Z"
   },
   {
    "duration": 278,
    "start_time": "2022-02-10T12:46:50.763Z"
   },
   {
    "duration": 280,
    "start_time": "2022-02-10T12:47:12.229Z"
   },
   {
    "duration": 603,
    "start_time": "2022-02-10T12:47:20.269Z"
   },
   {
    "duration": 571,
    "start_time": "2022-02-10T12:47:31.332Z"
   },
   {
    "duration": 6,
    "start_time": "2022-02-10T12:48:03.343Z"
   },
   {
    "duration": 705,
    "start_time": "2022-02-10T12:50:06.742Z"
   },
   {
    "duration": 778,
    "start_time": "2022-02-10T12:50:13.139Z"
   },
   {
    "duration": 850,
    "start_time": "2022-02-10T12:50:20.232Z"
   },
   {
    "duration": 732,
    "start_time": "2022-02-10T12:50:27.392Z"
   },
   {
    "duration": 720,
    "start_time": "2022-02-10T12:53:19.232Z"
   },
   {
    "duration": 19,
    "start_time": "2022-02-10T12:57:59.521Z"
   },
   {
    "duration": 22,
    "start_time": "2022-02-10T12:58:04.989Z"
   },
   {
    "duration": 23,
    "start_time": "2022-02-10T12:58:12.745Z"
   },
   {
    "duration": 17,
    "start_time": "2022-02-10T13:02:19.669Z"
   },
   {
    "duration": 21,
    "start_time": "2022-02-10T13:02:23.715Z"
   },
   {
    "duration": 37,
    "start_time": "2022-02-10T13:05:44.822Z"
   },
   {
    "duration": 1460,
    "start_time": "2022-02-11T09:37:12.223Z"
   },
   {
    "duration": 65,
    "start_time": "2022-02-11T09:37:13.686Z"
   },
   {
    "duration": 15,
    "start_time": "2022-02-11T09:37:13.754Z"
   },
   {
    "duration": 67,
    "start_time": "2022-02-11T09:37:14.017Z"
   },
   {
    "duration": 16,
    "start_time": "2022-02-11T09:37:14.254Z"
   },
   {
    "duration": 7,
    "start_time": "2022-02-11T09:37:15.070Z"
   },
   {
    "duration": 6,
    "start_time": "2022-02-11T09:37:15.852Z"
   },
   {
    "duration": 19,
    "start_time": "2022-02-11T09:37:17.935Z"
   },
   {
    "duration": 14,
    "start_time": "2022-02-11T09:37:18.895Z"
   },
   {
    "duration": 29,
    "start_time": "2022-02-11T09:37:19.763Z"
   },
   {
    "duration": 8,
    "start_time": "2022-02-11T09:37:20.185Z"
   },
   {
    "duration": 11,
    "start_time": "2022-02-11T09:37:20.583Z"
   },
   {
    "duration": 9,
    "start_time": "2022-02-11T09:37:20.999Z"
   },
   {
    "duration": 25,
    "start_time": "2022-02-11T09:37:21.871Z"
   },
   {
    "duration": 839,
    "start_time": "2022-02-11T09:37:24.703Z"
   },
   {
    "duration": 6,
    "start_time": "2022-02-11T09:37:25.771Z"
   },
   {
    "duration": 24,
    "start_time": "2022-02-11T09:37:27.462Z"
   },
   {
    "duration": 101,
    "start_time": "2022-02-11T09:37:29.311Z"
   },
   {
    "duration": 96,
    "start_time": "2022-02-11T09:41:30.616Z"
   },
   {
    "duration": 27,
    "start_time": "2022-02-11T09:52:13.098Z"
   },
   {
    "duration": 23,
    "start_time": "2022-02-11T09:54:41.035Z"
   },
   {
    "duration": 854,
    "start_time": "2022-02-11T10:17:08.615Z"
   },
   {
    "duration": 1001,
    "start_time": "2022-02-11T10:17:35.589Z"
   },
   {
    "duration": 5,
    "start_time": "2022-02-11T10:24:19.212Z"
   },
   {
    "duration": 17,
    "start_time": "2022-02-11T10:25:37.319Z"
   },
   {
    "duration": 22,
    "start_time": "2022-02-11T10:33:40.644Z"
   },
   {
    "duration": 15,
    "start_time": "2022-02-11T10:34:03.973Z"
   },
   {
    "duration": 79,
    "start_time": "2022-02-11T10:34:09.205Z"
   },
   {
    "duration": 15,
    "start_time": "2022-02-11T10:34:14.433Z"
   },
   {
    "duration": 173,
    "start_time": "2022-02-11T10:46:21.244Z"
   },
   {
    "duration": 201,
    "start_time": "2022-02-11T10:46:28.909Z"
   },
   {
    "duration": 194,
    "start_time": "2022-02-11T10:47:01.013Z"
   },
   {
    "duration": 40,
    "start_time": "2022-02-11T10:47:11.876Z"
   },
   {
    "duration": 35,
    "start_time": "2022-02-11T10:47:52.684Z"
   },
   {
    "duration": 30,
    "start_time": "2022-02-11T10:48:06.153Z"
   },
   {
    "duration": 4,
    "start_time": "2022-02-11T10:48:14.828Z"
   },
   {
    "duration": 25,
    "start_time": "2022-02-11T10:48:18.269Z"
   },
   {
    "duration": 28,
    "start_time": "2022-02-11T10:48:21.601Z"
   },
   {
    "duration": 35,
    "start_time": "2022-02-11T10:48:25.052Z"
   },
   {
    "duration": 33,
    "start_time": "2022-02-11T10:48:28.297Z"
   },
   {
    "duration": 38,
    "start_time": "2022-02-11T10:48:32.921Z"
   },
   {
    "duration": 40,
    "start_time": "2022-02-11T10:48:36.262Z"
   },
   {
    "duration": 44,
    "start_time": "2022-02-11T10:48:39.889Z"
   },
   {
    "duration": 49,
    "start_time": "2022-02-11T10:48:45.038Z"
   },
   {
    "duration": 31,
    "start_time": "2022-02-11T10:48:50.520Z"
   },
   {
    "duration": 1322,
    "start_time": "2022-02-11T10:51:43.510Z"
   },
   {
    "duration": 2070,
    "start_time": "2022-02-11T10:56:50.343Z"
   },
   {
    "duration": 1681,
    "start_time": "2022-02-11T10:56:58.127Z"
   },
   {
    "duration": 1554,
    "start_time": "2022-02-11T10:57:08.819Z"
   },
   {
    "duration": 30,
    "start_time": "2022-02-11T10:57:37.170Z"
   },
   {
    "duration": 27,
    "start_time": "2022-02-11T10:57:40.574Z"
   },
   {
    "duration": 27,
    "start_time": "2022-02-11T10:58:18.267Z"
   },
   {
    "duration": 385,
    "start_time": "2022-02-11T10:58:49.443Z"
   },
   {
    "duration": 24,
    "start_time": "2022-02-11T10:59:10.759Z"
   },
   {
    "duration": 19,
    "start_time": "2022-02-11T10:59:21.507Z"
   },
   {
    "duration": 18,
    "start_time": "2022-02-11T11:00:58.288Z"
   },
   {
    "duration": 72,
    "start_time": "2022-02-11T11:01:05.239Z"
   },
   {
    "duration": 27,
    "start_time": "2022-02-11T11:01:07.831Z"
   },
   {
    "duration": 1536,
    "start_time": "2022-02-11T11:01:09.263Z"
   },
   {
    "duration": 54,
    "start_time": "2022-02-11T11:01:17.055Z"
   },
   {
    "duration": 29,
    "start_time": "2022-02-11T11:01:17.960Z"
   },
   {
    "duration": 1455,
    "start_time": "2022-02-11T11:01:19.268Z"
   },
   {
    "duration": 52,
    "start_time": "2022-02-11T11:30:51.222Z"
   },
   {
    "duration": 29,
    "start_time": "2022-02-11T11:30:55.681Z"
   },
   {
    "duration": 55,
    "start_time": "2022-02-11T11:31:00.301Z"
   },
   {
    "duration": 26,
    "start_time": "2022-02-11T11:31:07.788Z"
   },
   {
    "duration": 1572,
    "start_time": "2022-02-11T11:32:26.119Z"
   },
   {
    "duration": 3029,
    "start_time": "2022-02-11T11:32:37.418Z"
   },
   {
    "duration": 3093,
    "start_time": "2022-02-11T11:32:44.753Z"
   },
   {
    "duration": 156,
    "start_time": "2022-02-11T11:34:28.249Z"
   },
   {
    "duration": 16,
    "start_time": "2022-02-11T11:37:11.890Z"
   },
   {
    "duration": 91,
    "start_time": "2022-02-11T11:37:25.723Z"
   },
   {
    "duration": 76,
    "start_time": "2022-02-11T11:37:32.339Z"
   },
   {
    "duration": 34,
    "start_time": "2022-02-11T11:37:33.591Z"
   },
   {
    "duration": 2815,
    "start_time": "2022-02-11T11:37:41.334Z"
   },
   {
    "duration": 168,
    "start_time": "2022-02-11T11:38:25.578Z"
   },
   {
    "duration": 2882,
    "start_time": "2022-02-11T11:39:19.520Z"
   },
   {
    "duration": 2920,
    "start_time": "2022-02-11T11:39:31.803Z"
   },
   {
    "duration": 21,
    "start_time": "2022-02-11T11:39:47.051Z"
   },
   {
    "duration": 2869,
    "start_time": "2022-02-11T11:40:18.450Z"
   },
   {
    "duration": 19,
    "start_time": "2022-02-11T11:40:21.322Z"
   },
   {
    "duration": 1102,
    "start_time": "2022-02-12T12:16:03.761Z"
   },
   {
    "duration": 46,
    "start_time": "2022-02-12T12:16:04.865Z"
   },
   {
    "duration": 11,
    "start_time": "2022-02-12T12:16:08.885Z"
   },
   {
    "duration": 46,
    "start_time": "2022-02-12T12:16:17.309Z"
   },
   {
    "duration": 12,
    "start_time": "2022-02-12T12:16:31.861Z"
   },
   {
    "duration": 6,
    "start_time": "2022-02-12T12:16:33.392Z"
   },
   {
    "duration": 4,
    "start_time": "2022-02-12T12:16:33.909Z"
   },
   {
    "duration": 14,
    "start_time": "2022-02-12T12:18:05.462Z"
   },
   {
    "duration": 13,
    "start_time": "2022-02-12T12:18:42.183Z"
   },
   {
    "duration": 9,
    "start_time": "2022-02-12T12:18:53.446Z"
   },
   {
    "duration": 21,
    "start_time": "2022-02-12T12:19:01.588Z"
   },
   {
    "duration": 6,
    "start_time": "2022-02-12T12:19:08.945Z"
   },
   {
    "duration": 9,
    "start_time": "2022-02-12T12:19:11.922Z"
   },
   {
    "duration": 9,
    "start_time": "2022-02-12T12:19:19.861Z"
   },
   {
    "duration": 24,
    "start_time": "2022-02-12T12:19:33.854Z"
   },
   {
    "duration": 23336,
    "start_time": "2022-02-12T12:23:26.847Z"
   },
   {
    "duration": 4,
    "start_time": "2022-02-12T12:24:26.339Z"
   },
   {
    "duration": 41,
    "start_time": "2022-02-12T12:24:27.147Z"
   },
   {
    "duration": 12,
    "start_time": "2022-02-12T12:24:27.915Z"
   },
   {
    "duration": 43,
    "start_time": "2022-02-12T12:24:28.393Z"
   },
   {
    "duration": 11,
    "start_time": "2022-02-12T12:24:28.550Z"
   },
   {
    "duration": 4,
    "start_time": "2022-02-12T12:24:29.091Z"
   },
   {
    "duration": 5,
    "start_time": "2022-02-12T12:24:29.222Z"
   },
   {
    "duration": 14,
    "start_time": "2022-02-12T12:24:30.507Z"
   },
   {
    "duration": 9,
    "start_time": "2022-02-12T12:24:30.821Z"
   },
   {
    "duration": 19,
    "start_time": "2022-02-12T12:24:31.263Z"
   },
   {
    "duration": 6,
    "start_time": "2022-02-12T12:24:31.535Z"
   },
   {
    "duration": 7,
    "start_time": "2022-02-12T12:24:31.769Z"
   },
   {
    "duration": 8,
    "start_time": "2022-02-12T12:24:32.008Z"
   },
   {
    "duration": 25,
    "start_time": "2022-02-12T12:24:32.455Z"
   },
   {
    "duration": 22974,
    "start_time": "2022-02-12T12:24:34.903Z"
   },
   {
    "duration": 387,
    "start_time": "2022-02-12T12:25:51.892Z"
   },
   {
    "duration": 247,
    "start_time": "2022-02-12T12:26:05.499Z"
   },
   {
    "duration": 23350,
    "start_time": "2022-02-12T12:26:55.300Z"
   },
   {
    "duration": 22891,
    "start_time": "2022-02-12T12:27:27.925Z"
   },
   {
    "duration": -2273,
    "start_time": "2022-02-12T12:31:11.361Z"
   },
   {
    "duration": 30187,
    "start_time": "2022-02-12T12:31:12.449Z"
   },
   {
    "duration": 6,
    "start_time": "2022-02-12T12:32:21.132Z"
   },
   {
    "duration": 89,
    "start_time": "2022-02-12T12:32:43.613Z"
   },
   {
    "duration": 16232,
    "start_time": "2022-02-12T12:32:50.177Z"
   },
   {
    "duration": 16027,
    "start_time": "2022-02-12T12:33:38.057Z"
   },
   {
    "duration": 290,
    "start_time": "2022-02-12T12:36:06.113Z"
   },
   {
    "duration": 16,
    "start_time": "2022-02-12T12:36:24.985Z"
   },
   {
    "duration": 15711,
    "start_time": "2022-02-12T12:37:49.134Z"
   },
   {
    "duration": 11,
    "start_time": "2022-02-12T12:38:04.847Z"
   },
   {
    "duration": 33,
    "start_time": "2022-02-12T12:38:54.238Z"
   },
   {
    "duration": 4,
    "start_time": "2022-02-12T13:29:56.771Z"
   },
   {
    "duration": 46,
    "start_time": "2022-02-12T13:29:57.068Z"
   },
   {
    "duration": 13,
    "start_time": "2022-02-12T13:29:57.890Z"
   },
   {
    "duration": 59,
    "start_time": "2022-02-12T13:29:58.818Z"
   },
   {
    "duration": 21,
    "start_time": "2022-02-12T13:29:59.235Z"
   },
   {
    "duration": 6,
    "start_time": "2022-02-12T13:30:00.454Z"
   },
   {
    "duration": 5,
    "start_time": "2022-02-12T13:30:00.759Z"
   },
   {
    "duration": 313,
    "start_time": "2022-02-12T13:30:03.059Z"
   },
   {
    "duration": 19,
    "start_time": "2022-02-12T13:30:55.675Z"
   },
   {
    "duration": 10,
    "start_time": "2022-02-12T13:31:06.035Z"
   },
   {
    "duration": 18,
    "start_time": "2022-02-12T13:31:08.395Z"
   },
   {
    "duration": 5,
    "start_time": "2022-02-12T13:31:09.807Z"
   },
   {
    "duration": 10,
    "start_time": "2022-02-12T13:31:12.962Z"
   },
   {
    "duration": 10,
    "start_time": "2022-02-12T13:31:14.362Z"
   },
   {
    "duration": 27,
    "start_time": "2022-02-12T13:31:16.381Z"
   },
   {
    "duration": 275,
    "start_time": "2022-02-12T13:31:21.768Z"
   },
   {
    "duration": 287,
    "start_time": "2022-02-12T13:32:22.768Z"
   },
   {
    "duration": 4,
    "start_time": "2022-02-12T13:32:51.718Z"
   },
   {
    "duration": 48,
    "start_time": "2022-02-12T13:32:52.902Z"
   },
   {
    "duration": 11,
    "start_time": "2022-02-12T13:32:54.585Z"
   },
   {
    "duration": 45,
    "start_time": "2022-02-12T13:32:59.231Z"
   },
   {
    "duration": 15,
    "start_time": "2022-02-12T13:32:59.852Z"
   },
   {
    "duration": 7,
    "start_time": "2022-02-12T13:33:06.815Z"
   },
   {
    "duration": 7,
    "start_time": "2022-02-12T13:33:07.136Z"
   },
   {
    "duration": 18,
    "start_time": "2022-02-12T13:33:09.484Z"
   },
   {
    "duration": 11,
    "start_time": "2022-02-12T13:33:15.476Z"
   },
   {
    "duration": 31,
    "start_time": "2022-02-12T13:33:24.817Z"
   },
   {
    "duration": 6,
    "start_time": "2022-02-12T13:33:28.676Z"
   },
   {
    "duration": 11,
    "start_time": "2022-02-12T13:33:30.508Z"
   },
   {
    "duration": 11,
    "start_time": "2022-02-12T13:33:31.603Z"
   },
   {
    "duration": 26,
    "start_time": "2022-02-12T13:33:33.171Z"
   },
   {
    "duration": 290,
    "start_time": "2022-02-12T13:33:37.022Z"
   },
   {
    "duration": 4,
    "start_time": "2022-02-12T13:35:51.993Z"
   },
   {
    "duration": 36,
    "start_time": "2022-02-12T13:35:52.152Z"
   },
   {
    "duration": 11,
    "start_time": "2022-02-12T13:35:52.480Z"
   },
   {
    "duration": 53,
    "start_time": "2022-02-12T13:35:52.964Z"
   },
   {
    "duration": 11,
    "start_time": "2022-02-12T13:35:53.306Z"
   },
   {
    "duration": 6,
    "start_time": "2022-02-12T13:35:54.790Z"
   },
   {
    "duration": 7,
    "start_time": "2022-02-12T13:35:55.061Z"
   },
   {
    "duration": 379,
    "start_time": "2022-02-12T13:35:57.037Z"
   },
   {
    "duration": 17,
    "start_time": "2022-02-12T13:41:37.789Z"
   },
   {
    "duration": 10,
    "start_time": "2022-02-12T13:41:39.853Z"
   },
   {
    "duration": 22,
    "start_time": "2022-02-12T13:41:44.457Z"
   },
   {
    "duration": 6,
    "start_time": "2022-02-12T13:41:50.084Z"
   },
   {
    "duration": 8,
    "start_time": "2022-02-12T13:41:51.198Z"
   },
   {
    "duration": 7,
    "start_time": "2022-02-12T13:41:52.738Z"
   },
   {
    "duration": 24,
    "start_time": "2022-02-12T13:41:57.721Z"
   },
   {
    "duration": 293,
    "start_time": "2022-02-12T13:42:00.542Z"
   },
   {
    "duration": 270,
    "start_time": "2022-02-12T13:43:05.233Z"
   },
   {
    "duration": 15,
    "start_time": "2022-02-12T13:43:12.490Z"
   },
   {
    "duration": 328,
    "start_time": "2022-02-12T13:44:37.442Z"
   },
   {
    "duration": 15295,
    "start_time": "2022-02-12T13:44:46.370Z"
   },
   {
    "duration": 15623,
    "start_time": "2022-02-12T13:45:57.420Z"
   },
   {
    "duration": 16,
    "start_time": "2022-02-12T13:46:30.446Z"
   },
   {
    "duration": 11,
    "start_time": "2022-02-12T13:46:31.109Z"
   },
   {
    "duration": 19,
    "start_time": "2022-02-12T13:46:32.478Z"
   },
   {
    "duration": 5,
    "start_time": "2022-02-12T13:46:33.736Z"
   },
   {
    "duration": 9,
    "start_time": "2022-02-12T13:46:34.427Z"
   },
   {
    "duration": 7,
    "start_time": "2022-02-12T13:46:35.487Z"
   },
   {
    "duration": 26,
    "start_time": "2022-02-12T13:46:36.342Z"
   },
   {
    "duration": 371,
    "start_time": "2022-02-12T13:46:43.813Z"
   },
   {
    "duration": 15406,
    "start_time": "2022-02-12T13:46:57.765Z"
   },
   {
    "duration": 18,
    "start_time": "2022-02-12T13:48:05.918Z"
   },
   {
    "duration": 72,
    "start_time": "2022-02-12T13:48:13.166Z"
   },
   {
    "duration": 292,
    "start_time": "2022-02-12T13:49:51.634Z"
   },
   {
    "duration": 284,
    "start_time": "2022-02-12T13:49:56.022Z"
   },
   {
    "duration": 88,
    "start_time": "2022-02-12T13:50:23.827Z"
   },
   {
    "duration": 47,
    "start_time": "2022-02-12T13:50:36.204Z"
   },
   {
    "duration": 4,
    "start_time": "2022-02-12T13:50:46.375Z"
   },
   {
    "duration": 39,
    "start_time": "2022-02-12T13:50:46.547Z"
   },
   {
    "duration": 11,
    "start_time": "2022-02-12T13:50:46.979Z"
   },
   {
    "duration": 42,
    "start_time": "2022-02-12T13:50:47.395Z"
   },
   {
    "duration": 12,
    "start_time": "2022-02-12T13:50:47.603Z"
   },
   {
    "duration": 4,
    "start_time": "2022-02-12T13:50:48.416Z"
   },
   {
    "duration": 4,
    "start_time": "2022-02-12T13:50:48.635Z"
   },
   {
    "duration": 276,
    "start_time": "2022-02-12T13:50:49.693Z"
   },
   {
    "duration": 243,
    "start_time": "2022-02-12T13:52:58.180Z"
   },
   {
    "duration": 46,
    "start_time": "2022-02-12T13:53:12.452Z"
   },
   {
    "duration": 257,
    "start_time": "2022-02-12T13:53:29.709Z"
   },
   {
    "duration": 6,
    "start_time": "2022-02-12T13:53:39.615Z"
   },
   {
    "duration": 10,
    "start_time": "2022-02-12T13:53:43.427Z"
   },
   {
    "duration": 18,
    "start_time": "2022-02-12T13:53:45.143Z"
   },
   {
    "duration": 5,
    "start_time": "2022-02-12T13:53:48.089Z"
   },
   {
    "duration": 25,
    "start_time": "2022-02-12T13:53:48.096Z"
   },
   {
    "duration": 20,
    "start_time": "2022-02-12T13:53:48.123Z"
   },
   {
    "duration": 25,
    "start_time": "2022-02-12T13:53:49.519Z"
   },
   {
    "duration": 17802,
    "start_time": "2022-02-12T13:53:54.002Z"
   },
   {
    "duration": 16603,
    "start_time": "2022-02-12T13:54:22.911Z"
   },
   {
    "duration": 31,
    "start_time": "2022-02-12T13:54:49.196Z"
   },
   {
    "duration": 255,
    "start_time": "2022-02-12T13:57:12.540Z"
   },
   {
    "duration": 257,
    "start_time": "2022-02-12T13:57:20.680Z"
   },
   {
    "duration": 7,
    "start_time": "2022-02-12T13:57:47.443Z"
   },
   {
    "duration": 281,
    "start_time": "2022-02-12T13:58:12.940Z"
   },
   {
    "duration": 1872,
    "start_time": "2022-02-12T13:58:27.172Z"
   },
   {
    "duration": 1772,
    "start_time": "2022-02-12T13:59:05.884Z"
   },
   {
    "duration": 37,
    "start_time": "2022-02-12T13:59:50.100Z"
   },
   {
    "duration": 4,
    "start_time": "2022-02-12T14:00:12.097Z"
   },
   {
    "duration": 38,
    "start_time": "2022-02-12T14:00:12.518Z"
   },
   {
    "duration": 10,
    "start_time": "2022-02-12T14:00:13.900Z"
   },
   {
    "duration": 41,
    "start_time": "2022-02-12T14:00:15.444Z"
   },
   {
    "duration": 309,
    "start_time": "2022-02-12T14:10:12.979Z"
   },
   {
    "duration": 11,
    "start_time": "2022-02-12T14:10:49.984Z"
   },
   {
    "duration": 10,
    "start_time": "2022-02-12T14:10:55.603Z"
   },
   {
    "duration": 11,
    "start_time": "2022-02-12T14:10:59.159Z"
   },
   {
    "duration": 20,
    "start_time": "2022-02-12T14:11:00.615Z"
   },
   {
    "duration": 6,
    "start_time": "2022-02-12T14:11:01.251Z"
   },
   {
    "duration": 9,
    "start_time": "2022-02-12T14:11:01.683Z"
   },
   {
    "duration": 8,
    "start_time": "2022-02-12T14:11:02.254Z"
   },
   {
    "duration": 27,
    "start_time": "2022-02-12T14:11:03.313Z"
   },
   {
    "duration": 16311,
    "start_time": "2022-02-12T14:11:05.939Z"
   },
   {
    "duration": 274,
    "start_time": "2022-02-12T14:12:22.845Z"
   },
   {
    "duration": 16211,
    "start_time": "2022-02-12T14:14:08.321Z"
   },
   {
    "duration": 25465,
    "start_time": "2022-02-12T14:14:56.576Z"
   },
   {
    "duration": 16401,
    "start_time": "2022-02-12T14:16:48.238Z"
   },
   {
    "duration": 279,
    "start_time": "2022-02-12T14:19:12.821Z"
   },
   {
    "duration": 270,
    "start_time": "2022-02-12T14:19:16.545Z"
   },
   {
    "duration": 274,
    "start_time": "2022-02-12T14:20:01.817Z"
   },
   {
    "duration": 125,
    "start_time": "2022-02-12T14:20:26.835Z"
   },
   {
    "duration": 40,
    "start_time": "2022-02-12T14:20:27.754Z"
   },
   {
    "duration": 125,
    "start_time": "2022-02-12T14:21:26.461Z"
   },
   {
    "duration": 39,
    "start_time": "2022-02-12T14:21:27.285Z"
   },
   {
    "duration": 16277,
    "start_time": "2022-02-12T14:21:43.656Z"
   },
   {
    "duration": 38,
    "start_time": "2022-02-12T14:22:06.457Z"
   },
   {
    "duration": 177,
    "start_time": "2022-02-12T14:48:45.414Z"
   },
   {
    "duration": 303,
    "start_time": "2022-02-12T14:49:01.628Z"
   },
   {
    "duration": 176,
    "start_time": "2022-02-12T14:49:17.748Z"
   },
   {
    "duration": 174,
    "start_time": "2022-02-12T14:49:35.367Z"
   },
   {
    "duration": 297,
    "start_time": "2022-02-12T14:49:45.204Z"
   },
   {
    "duration": 168,
    "start_time": "2022-02-12T14:50:04.899Z"
   },
   {
    "duration": 298,
    "start_time": "2022-02-12T14:50:12.740Z"
   },
   {
    "duration": 580,
    "start_time": "2022-02-12T14:50:37.968Z"
   },
   {
    "duration": 584,
    "start_time": "2022-02-12T14:50:55.780Z"
   },
   {
    "duration": 55,
    "start_time": "2022-02-12T14:51:09.960Z"
   },
   {
    "duration": 57,
    "start_time": "2022-02-12T14:51:30.337Z"
   },
   {
    "duration": 55,
    "start_time": "2022-02-12T14:51:53.870Z"
   },
   {
    "duration": 726,
    "start_time": "2022-02-12T14:52:00.413Z"
   },
   {
    "duration": 726,
    "start_time": "2022-02-12T14:52:53.072Z"
   },
   {
    "duration": 701,
    "start_time": "2022-02-12T14:53:28.369Z"
   },
   {
    "duration": 699,
    "start_time": "2022-02-12T14:53:34.277Z"
   },
   {
    "duration": 16149,
    "start_time": "2022-02-12T14:59:10.028Z"
   },
   {
    "duration": 87,
    "start_time": "2022-02-12T15:02:33.573Z"
   },
   {
    "duration": 49,
    "start_time": "2022-02-12T15:02:57.441Z"
   },
   {
    "duration": 16018,
    "start_time": "2022-02-12T15:03:13.191Z"
   },
   {
    "duration": 49,
    "start_time": "2022-02-12T15:03:34.541Z"
   },
   {
    "duration": 17,
    "start_time": "2022-02-12T15:15:47.535Z"
   },
   {
    "duration": 110,
    "start_time": "2022-02-12T15:15:56.419Z"
   },
   {
    "duration": 18,
    "start_time": "2022-02-12T15:19:01.262Z"
   },
   {
    "duration": 17,
    "start_time": "2022-02-12T15:19:06.195Z"
   },
   {
    "duration": 16,
    "start_time": "2022-02-12T15:19:11.790Z"
   },
   {
    "duration": 16,
    "start_time": "2022-02-12T15:19:15.649Z"
   },
   {
    "duration": 22926,
    "start_time": "2022-02-12T15:24:42.562Z"
   },
   {
    "duration": 22551,
    "start_time": "2022-02-12T15:26:24.131Z"
   },
   {
    "duration": 16709,
    "start_time": "2022-02-12T15:26:46.684Z"
   },
   {
    "duration": 9266,
    "start_time": "2022-02-12T15:31:00.025Z"
   },
   {
    "duration": 86,
    "start_time": "2022-02-12T15:32:18.726Z"
   },
   {
    "duration": 16207,
    "start_time": "2022-02-12T15:39:02.001Z"
   },
   {
    "duration": 269,
    "start_time": "2022-02-12T15:39:39.273Z"
   },
   {
    "duration": 173,
    "start_time": "2022-02-12T15:39:46.355Z"
   },
   {
    "duration": 15887,
    "start_time": "2022-02-12T15:44:51.349Z"
   },
   {
    "duration": 170,
    "start_time": "2022-02-12T15:46:02.458Z"
   },
   {
    "duration": 422,
    "start_time": "2022-02-12T15:46:46.302Z"
   },
   {
    "duration": 159,
    "start_time": "2022-02-12T15:46:54.528Z"
   },
   {
    "duration": 209,
    "start_time": "2022-02-12T15:47:14.574Z"
   },
   {
    "duration": 234,
    "start_time": "2022-02-12T15:47:32.180Z"
   },
   {
    "duration": 273,
    "start_time": "2022-02-12T15:49:58.326Z"
   },
   {
    "duration": 403,
    "start_time": "2022-02-12T15:50:26.255Z"
   },
   {
    "duration": 378,
    "start_time": "2022-02-12T15:50:52.447Z"
   },
   {
    "duration": 377,
    "start_time": "2022-02-12T15:51:41.866Z"
   },
   {
    "duration": 450,
    "start_time": "2022-02-12T15:52:36.035Z"
   },
   {
    "duration": 514,
    "start_time": "2022-02-12T15:53:06.490Z"
   },
   {
    "duration": 528,
    "start_time": "2022-02-12T15:58:12.734Z"
   },
   {
    "duration": 4,
    "start_time": "2022-02-12T15:58:45.740Z"
   },
   {
    "duration": 5,
    "start_time": "2022-02-12T15:59:30.601Z"
   },
   {
    "duration": 267,
    "start_time": "2022-02-12T15:59:44.525Z"
   },
   {
    "duration": 80,
    "start_time": "2022-02-12T16:05:27.048Z"
   },
   {
    "duration": 257,
    "start_time": "2022-02-12T16:07:05.748Z"
   },
   {
    "duration": 190,
    "start_time": "2022-02-12T16:08:39.822Z"
   },
   {
    "duration": 194,
    "start_time": "2022-02-12T16:09:37.974Z"
   },
   {
    "duration": 201,
    "start_time": "2022-02-12T16:09:52.518Z"
   },
   {
    "duration": 210,
    "start_time": "2022-02-12T16:13:01.520Z"
   },
   {
    "duration": 220,
    "start_time": "2022-02-12T16:13:18.987Z"
   },
   {
    "duration": 226,
    "start_time": "2022-02-12T16:13:25.227Z"
   },
   {
    "duration": 1148,
    "start_time": "2022-02-12T19:19:02.380Z"
   },
   {
    "duration": 34,
    "start_time": "2022-02-12T19:19:03.531Z"
   },
   {
    "duration": 39,
    "start_time": "2022-02-12T19:19:03.567Z"
   },
   {
    "duration": 10,
    "start_time": "2022-02-12T19:19:03.607Z"
   },
   {
    "duration": 61,
    "start_time": "2022-02-12T19:19:03.619Z"
   },
   {
    "duration": 10,
    "start_time": "2022-02-12T19:19:03.848Z"
   },
   {
    "duration": 5,
    "start_time": "2022-02-12T19:19:04.389Z"
   },
   {
    "duration": 5,
    "start_time": "2022-02-12T19:19:04.553Z"
   },
   {
    "duration": 272,
    "start_time": "2022-02-12T19:19:05.460Z"
   },
   {
    "duration": 10,
    "start_time": "2022-02-12T19:19:05.857Z"
   },
   {
    "duration": 18,
    "start_time": "2022-02-12T19:19:06.259Z"
   },
   {
    "duration": 5,
    "start_time": "2022-02-12T19:19:06.460Z"
   },
   {
    "duration": 9,
    "start_time": "2022-02-12T19:19:06.648Z"
   },
   {
    "duration": 8,
    "start_time": "2022-02-12T19:19:06.849Z"
   },
   {
    "duration": 27,
    "start_time": "2022-02-12T19:19:07.285Z"
   },
   {
    "duration": 191,
    "start_time": "2022-02-12T19:19:08.638Z"
   },
   {
    "duration": 175,
    "start_time": "2022-02-12T19:19:09.672Z"
   },
   {
    "duration": 5,
    "start_time": "2022-02-12T19:19:10.911Z"
   },
   {
    "duration": 185,
    "start_time": "2022-02-12T19:19:11.460Z"
   },
   {
    "duration": 278,
    "start_time": "2022-02-12T19:19:11.966Z"
   },
   {
    "duration": 191,
    "start_time": "2022-02-12T19:19:36.301Z"
   },
   {
    "duration": 183,
    "start_time": "2022-02-12T19:19:58.738Z"
   },
   {
    "duration": 9,
    "start_time": "2022-02-12T19:20:04.264Z"
   },
   {
    "duration": 9,
    "start_time": "2022-02-12T19:20:06.805Z"
   },
   {
    "duration": 10,
    "start_time": "2022-02-12T19:20:16.339Z"
   },
   {
    "duration": 9,
    "start_time": "2022-02-12T19:20:18.411Z"
   },
   {
    "duration": 180,
    "start_time": "2022-02-12T19:20:32.153Z"
   },
   {
    "duration": 10,
    "start_time": "2022-02-12T19:20:34.784Z"
   },
   {
    "duration": 10,
    "start_time": "2022-02-12T19:20:36.117Z"
   },
   {
    "duration": 15,
    "start_time": "2022-02-12T19:20:38.865Z"
   },
   {
    "duration": 5,
    "start_time": "2022-02-12T19:20:39.648Z"
   },
   {
    "duration": 8,
    "start_time": "2022-02-12T19:20:39.805Z"
   },
   {
    "duration": 9,
    "start_time": "2022-02-12T19:20:40.469Z"
   },
   {
    "duration": 21,
    "start_time": "2022-02-12T19:20:41.445Z"
   },
   {
    "duration": 13302,
    "start_time": "2022-02-12T19:20:44.515Z"
   },
   {
    "duration": 33,
    "start_time": "2022-02-12T19:21:01.816Z"
   },
   {
    "duration": 6,
    "start_time": "2022-02-12T19:21:03.437Z"
   },
   {
    "duration": 587,
    "start_time": "2022-02-12T19:21:09.640Z"
   },
   {
    "duration": 64,
    "start_time": "2022-02-12T19:21:11.797Z"
   },
   {
    "duration": 15,
    "start_time": "2022-02-12T19:21:17.553Z"
   },
   {
    "duration": 15,
    "start_time": "2022-02-12T19:21:18.873Z"
   },
   {
    "duration": 13356,
    "start_time": "2022-02-12T19:21:24.179Z"
   },
   {
    "duration": 18616,
    "start_time": "2022-02-12T19:21:37.537Z"
   },
   {
    "duration": 7677,
    "start_time": "2022-02-12T19:21:56.155Z"
   },
   {
    "duration": 245,
    "start_time": "2022-02-12T19:22:03.834Z"
   },
   {
    "duration": 189,
    "start_time": "2022-02-12T19:22:04.080Z"
   },
   {
    "duration": 215,
    "start_time": "2022-02-12T19:22:04.271Z"
   },
   {
    "duration": 233,
    "start_time": "2022-02-12T19:23:44.495Z"
   },
   {
    "duration": 192,
    "start_time": "2022-02-12T19:23:46.395Z"
   },
   {
    "duration": 203,
    "start_time": "2022-02-12T19:23:48.236Z"
   },
   {
    "duration": 13489,
    "start_time": "2022-02-12T19:37:06.516Z"
   },
   {
    "duration": 13,
    "start_time": "2022-02-12T19:37:28.501Z"
   },
   {
    "duration": 13622,
    "start_time": "2022-02-12T19:37:58.689Z"
   },
   {
    "duration": 11,
    "start_time": "2022-02-12T19:38:40.197Z"
   },
   {
    "duration": 174,
    "start_time": "2022-02-12T19:40:36.407Z"
   },
   {
    "duration": 3,
    "start_time": "2022-02-12T19:41:45.927Z"
   },
   {
    "duration": 32,
    "start_time": "2022-02-12T19:41:47.098Z"
   },
   {
    "duration": 39,
    "start_time": "2022-02-12T19:41:49.415Z"
   },
   {
    "duration": 38,
    "start_time": "2022-02-12T19:42:17.179Z"
   },
   {
    "duration": 10,
    "start_time": "2022-02-12T19:42:17.786Z"
   },
   {
    "duration": 37,
    "start_time": "2022-02-12T19:42:18.792Z"
   },
   {
    "duration": 11,
    "start_time": "2022-02-12T19:42:19.863Z"
   },
   {
    "duration": 4,
    "start_time": "2022-02-12T19:42:57.961Z"
   },
   {
    "duration": 10,
    "start_time": "2022-02-12T19:43:48.631Z"
   },
   {
    "duration": 14,
    "start_time": "2022-02-12T19:43:50.340Z"
   },
   {
    "duration": 19,
    "start_time": "2022-02-12T19:43:51.470Z"
   },
   {
    "duration": 5,
    "start_time": "2022-02-12T19:43:54.153Z"
   },
   {
    "duration": 8,
    "start_time": "2022-02-12T19:43:54.748Z"
   },
   {
    "duration": 8,
    "start_time": "2022-02-12T19:43:56.609Z"
   },
   {
    "duration": 24,
    "start_time": "2022-02-12T19:43:58.674Z"
   },
   {
    "duration": 13611,
    "start_time": "2022-02-12T19:44:12.567Z"
   },
   {
    "duration": 10,
    "start_time": "2022-02-12T19:53:22.951Z"
   },
   {
    "duration": 174,
    "start_time": "2022-02-12T19:56:36.592Z"
   },
   {
    "duration": 30,
    "start_time": "2022-02-12T20:02:47.411Z"
   },
   {
    "duration": 568,
    "start_time": "2022-02-12T20:05:43.548Z"
   },
   {
    "duration": 582,
    "start_time": "2022-02-12T20:08:32.539Z"
   },
   {
    "duration": 7,
    "start_time": "2022-02-12T20:09:11.831Z"
   },
   {
    "duration": 236,
    "start_time": "2022-02-12T20:10:26.051Z"
   },
   {
    "duration": 109,
    "start_time": "2022-02-12T20:12:39.652Z"
   },
   {
    "duration": 12,
    "start_time": "2022-02-12T20:14:01.272Z"
   },
   {
    "duration": 174,
    "start_time": "2022-02-12T20:15:59.864Z"
   },
   {
    "duration": 15,
    "start_time": "2022-02-12T20:19:04.588Z"
   },
   {
    "duration": 16,
    "start_time": "2022-02-12T20:19:08.267Z"
   },
   {
    "duration": 7,
    "start_time": "2022-02-12T20:20:46.278Z"
   },
   {
    "duration": 13388,
    "start_time": "2022-02-12T20:20:52.480Z"
   },
   {
    "duration": 15,
    "start_time": "2022-02-12T20:21:07.729Z"
   },
   {
    "duration": 18890,
    "start_time": "2022-02-12T20:23:01.107Z"
   },
   {
    "duration": 7604,
    "start_time": "2022-02-12T20:23:19.999Z"
   },
   {
    "duration": 7071,
    "start_time": "2022-02-12T20:24:15.306Z"
   },
   {
    "duration": 177,
    "start_time": "2022-02-12T20:30:06.617Z"
   },
   {
    "duration": 177,
    "start_time": "2022-02-12T20:31:06.061Z"
   },
   {
    "duration": 598,
    "start_time": "2022-02-12T20:35:57.371Z"
   },
   {
    "duration": 814,
    "start_time": "2022-02-12T20:39:32.734Z"
   },
   {
    "duration": 757,
    "start_time": "2022-02-12T20:39:49.079Z"
   },
   {
    "duration": 616,
    "start_time": "2022-02-12T20:41:12.207Z"
   },
   {
    "duration": 771,
    "start_time": "2022-02-12T20:41:16.372Z"
   },
   {
    "duration": 779,
    "start_time": "2022-02-12T20:42:40.173Z"
   },
   {
    "duration": 1085,
    "start_time": "2022-02-12T20:42:52.916Z"
   },
   {
    "duration": 1102,
    "start_time": "2022-02-12T20:44:00.973Z"
   },
   {
    "duration": 387,
    "start_time": "2022-02-12T20:46:12.777Z"
   },
   {
    "duration": 52,
    "start_time": "2022-02-12T21:06:14.209Z"
   },
   {
    "duration": 96,
    "start_time": "2022-02-12T21:08:03.969Z"
   },
   {
    "duration": 45,
    "start_time": "2022-02-12T21:09:29.214Z"
   },
   {
    "duration": 67,
    "start_time": "2022-02-12T21:10:17.093Z"
   },
   {
    "duration": 93,
    "start_time": "2022-02-12T21:10:18.568Z"
   },
   {
    "duration": 22,
    "start_time": "2022-02-12T21:10:19.704Z"
   },
   {
    "duration": 194,
    "start_time": "2022-02-12T21:12:56.596Z"
   },
   {
    "duration": 17842,
    "start_time": "2022-02-12T21:13:11.277Z"
   },
   {
    "duration": 17640,
    "start_time": "2022-02-12T21:14:03.025Z"
   },
   {
    "duration": 15,
    "start_time": "2022-02-12T21:20:19.943Z"
   },
   {
    "duration": 193,
    "start_time": "2022-02-12T21:20:50.528Z"
   },
   {
    "duration": 16,
    "start_time": "2022-02-12T21:22:09.319Z"
   },
   {
    "duration": 1163,
    "start_time": "2022-02-12T21:32:02.462Z"
   },
   {
    "duration": 40,
    "start_time": "2022-02-12T21:32:03.627Z"
   },
   {
    "duration": 40,
    "start_time": "2022-02-12T21:32:03.670Z"
   },
   {
    "duration": 10,
    "start_time": "2022-02-12T21:32:03.712Z"
   },
   {
    "duration": 63,
    "start_time": "2022-02-12T21:32:03.724Z"
   },
   {
    "duration": 11,
    "start_time": "2022-02-12T21:32:03.789Z"
   },
   {
    "duration": 4,
    "start_time": "2022-02-12T21:32:03.802Z"
   },
   {
    "duration": 7,
    "start_time": "2022-02-12T21:32:03.808Z"
   },
   {
    "duration": 15,
    "start_time": "2022-02-12T21:32:03.817Z"
   },
   {
    "duration": 32,
    "start_time": "2022-02-12T21:32:03.834Z"
   },
   {
    "duration": 17,
    "start_time": "2022-02-12T21:32:03.868Z"
   },
   {
    "duration": 4,
    "start_time": "2022-02-12T21:32:03.887Z"
   },
   {
    "duration": 9,
    "start_time": "2022-02-12T21:32:03.893Z"
   },
   {
    "duration": 7,
    "start_time": "2022-02-12T21:32:03.904Z"
   },
   {
    "duration": 69,
    "start_time": "2022-02-12T21:32:03.913Z"
   },
   {
    "duration": 14325,
    "start_time": "2022-02-12T21:32:03.984Z"
   },
   {
    "duration": 7,
    "start_time": "2022-02-12T21:32:18.311Z"
   },
   {
    "duration": 16,
    "start_time": "2022-02-12T21:32:18.321Z"
   },
   {
    "duration": 452,
    "start_time": "2022-02-12T21:32:18.339Z"
   },
   {
    "duration": -2602,
    "start_time": "2022-02-12T21:32:21.396Z"
   },
   {
    "duration": -2608,
    "start_time": "2022-02-12T21:32:21.403Z"
   },
   {
    "duration": -2614,
    "start_time": "2022-02-12T21:32:21.411Z"
   },
   {
    "duration": -2622,
    "start_time": "2022-02-12T21:32:21.420Z"
   },
   {
    "duration": -2630,
    "start_time": "2022-02-12T21:32:21.429Z"
   },
   {
    "duration": -2636,
    "start_time": "2022-02-12T21:32:21.437Z"
   },
   {
    "duration": -2642,
    "start_time": "2022-02-12T21:32:21.444Z"
   },
   {
    "duration": -2646,
    "start_time": "2022-02-12T21:32:21.450Z"
   },
   {
    "duration": -2652,
    "start_time": "2022-02-12T21:32:21.457Z"
   },
   {
    "duration": -2658,
    "start_time": "2022-02-12T21:32:21.464Z"
   },
   {
    "duration": -2662,
    "start_time": "2022-02-12T21:32:21.470Z"
   },
   {
    "duration": -2668,
    "start_time": "2022-02-12T21:32:21.477Z"
   },
   {
    "duration": -2674,
    "start_time": "2022-02-12T21:32:21.485Z"
   },
   {
    "duration": -2678,
    "start_time": "2022-02-12T21:32:21.490Z"
   },
   {
    "duration": -2691,
    "start_time": "2022-02-12T21:32:21.505Z"
   },
   {
    "duration": -2696,
    "start_time": "2022-02-12T21:32:21.511Z"
   },
   {
    "duration": -2699,
    "start_time": "2022-02-12T21:32:21.516Z"
   },
   {
    "duration": -2703,
    "start_time": "2022-02-12T21:32:21.521Z"
   },
   {
    "duration": -2666,
    "start_time": "2022-02-12T21:32:21.526Z"
   },
   {
    "duration": -2669,
    "start_time": "2022-02-12T21:32:21.531Z"
   },
   {
    "duration": -2674,
    "start_time": "2022-02-12T21:32:21.537Z"
   },
   {
    "duration": -2677,
    "start_time": "2022-02-12T21:32:21.542Z"
   },
   {
    "duration": -2682,
    "start_time": "2022-02-12T21:32:21.548Z"
   },
   {
    "duration": 4,
    "start_time": "2022-02-12T21:36:50.676Z"
   },
   {
    "duration": 35,
    "start_time": "2022-02-12T21:36:51.265Z"
   },
   {
    "duration": 41,
    "start_time": "2022-02-12T21:36:53.867Z"
   },
   {
    "duration": 12,
    "start_time": "2022-02-12T21:36:54.492Z"
   },
   {
    "duration": 1101,
    "start_time": "2022-02-12T21:37:05.782Z"
   },
   {
    "duration": 36,
    "start_time": "2022-02-12T21:37:06.885Z"
   },
   {
    "duration": 49,
    "start_time": "2022-02-12T21:37:06.923Z"
   },
   {
    "duration": 11,
    "start_time": "2022-02-12T21:37:07.375Z"
   },
   {
    "duration": 39,
    "start_time": "2022-02-12T21:37:08.369Z"
   },
   {
    "duration": 11,
    "start_time": "2022-02-12T21:37:09.053Z"
   },
   {
    "duration": 5,
    "start_time": "2022-02-12T21:37:09.917Z"
   },
   {
    "duration": 5,
    "start_time": "2022-02-12T21:37:10.238Z"
   },
   {
    "duration": 13,
    "start_time": "2022-02-12T21:37:11.973Z"
   },
   {
    "duration": 10,
    "start_time": "2022-02-12T21:38:11.314Z"
   },
   {
    "duration": 18,
    "start_time": "2022-02-12T21:38:16.507Z"
   },
   {
    "duration": 3525,
    "start_time": "2022-02-12T21:38:17.898Z"
   },
   {
    "duration": 2972,
    "start_time": "2022-02-12T21:38:21.424Z"
   },
   {
    "duration": 5898,
    "start_time": "2022-02-12T21:38:24.399Z"
   },
   {
    "duration": 4895,
    "start_time": "2022-02-12T21:38:30.299Z"
   },
   {
    "duration": 19126,
    "start_time": "2022-02-12T21:38:35.196Z"
   },
   {
    "duration": 7,
    "start_time": "2022-02-12T21:38:54.324Z"
   },
   {
    "duration": 30,
    "start_time": "2022-02-12T21:38:54.333Z"
   },
   {
    "duration": 521,
    "start_time": "2022-02-12T21:38:54.365Z"
   },
   {
    "duration": -2612,
    "start_time": "2022-02-12T21:38:57.501Z"
   },
   {
    "duration": -2615,
    "start_time": "2022-02-12T21:38:57.506Z"
   },
   {
    "duration": 207,
    "start_time": "2022-02-12T21:39:20.386Z"
   },
   {
    "duration": 36,
    "start_time": "2022-02-12T21:39:24.553Z"
   },
   {
    "duration": 628,
    "start_time": "2022-02-12T21:39:35.096Z"
   },
   {
    "duration": 4510,
    "start_time": "2022-02-12T21:39:38.210Z"
   },
   {
    "duration": 4081,
    "start_time": "2022-02-12T21:39:42.722Z"
   },
   {
    "duration": 186,
    "start_time": "2022-02-12T21:39:58.397Z"
   },
   {
    "duration": 86,
    "start_time": "2022-02-12T21:40:01.975Z"
   },
   {
    "duration": 11,
    "start_time": "2022-02-12T21:40:03.414Z"
   },
   {
    "duration": 181,
    "start_time": "2022-02-12T21:40:15.519Z"
   },
   {
    "duration": 17,
    "start_time": "2022-02-12T21:46:27.565Z"
   },
   {
    "duration": 292,
    "start_time": "2022-02-12T21:46:45.787Z"
   },
   {
    "duration": 17,
    "start_time": "2022-02-12T21:47:01.626Z"
   },
   {
    "duration": 15,
    "start_time": "2022-02-12T21:47:05.795Z"
   },
   {
    "duration": 14,
    "start_time": "2022-02-12T21:50:17.135Z"
   },
   {
    "duration": 13567,
    "start_time": "2022-02-12T21:50:19.551Z"
   },
   {
    "duration": 13,
    "start_time": "2022-02-12T21:50:33.120Z"
   },
   {
    "duration": 423,
    "start_time": "2022-02-12T21:50:33.135Z"
   },
   {
    "duration": -2596,
    "start_time": "2022-02-12T21:50:36.156Z"
   },
   {
    "duration": -2600,
    "start_time": "2022-02-12T21:50:36.161Z"
   },
   {
    "duration": -2603,
    "start_time": "2022-02-12T21:50:36.166Z"
   },
   {
    "duration": -2607,
    "start_time": "2022-02-12T21:50:36.171Z"
   },
   {
    "duration": -2611,
    "start_time": "2022-02-12T21:50:36.176Z"
   },
   {
    "duration": -2616,
    "start_time": "2022-02-12T21:50:36.181Z"
   },
   {
    "duration": -2619,
    "start_time": "2022-02-12T21:50:36.186Z"
   },
   {
    "duration": -2623,
    "start_time": "2022-02-12T21:50:36.191Z"
   },
   {
    "duration": -2627,
    "start_time": "2022-02-12T21:50:36.195Z"
   },
   {
    "duration": -2631,
    "start_time": "2022-02-12T21:50:36.200Z"
   },
   {
    "duration": -2634,
    "start_time": "2022-02-12T21:50:36.204Z"
   },
   {
    "duration": 185,
    "start_time": "2022-02-12T21:50:58.607Z"
   },
   {
    "duration": 18785,
    "start_time": "2022-02-12T21:51:01.955Z"
   },
   {
    "duration": 7138,
    "start_time": "2022-02-12T21:51:20.742Z"
   },
   {
    "duration": 616,
    "start_time": "2022-02-12T21:51:27.882Z"
   },
   {
    "duration": 1089,
    "start_time": "2022-02-12T21:51:28.501Z"
   },
   {
    "duration": 406,
    "start_time": "2022-02-12T21:51:29.592Z"
   },
   {
    "duration": 66,
    "start_time": "2022-02-12T21:51:30.001Z"
   },
   {
    "duration": 101,
    "start_time": "2022-02-12T21:51:30.160Z"
   },
   {
    "duration": 195,
    "start_time": "2022-02-12T21:51:30.264Z"
   },
   {
    "duration": 17812,
    "start_time": "2022-02-12T21:51:30.462Z"
   },
   {
    "duration": 45,
    "start_time": "2022-02-12T21:51:48.277Z"
   },
   {
    "duration": 312,
    "start_time": "2022-02-12T21:51:48.333Z"
   },
   {
    "duration": 11,
    "start_time": "2022-02-12T21:54:23.820Z"
   },
   {
    "duration": 11,
    "start_time": "2022-02-12T21:54:37.641Z"
   },
   {
    "duration": 1924,
    "start_time": "2022-02-13T13:19:54.462Z"
   },
   {
    "duration": 81,
    "start_time": "2022-02-13T13:19:56.390Z"
   },
   {
    "duration": 179,
    "start_time": "2022-02-13T13:19:56.475Z"
   },
   {
    "duration": 104,
    "start_time": "2022-02-13T13:19:56.658Z"
   },
   {
    "duration": 100,
    "start_time": "2022-02-13T13:19:57.481Z"
   },
   {
    "duration": 19,
    "start_time": "2022-02-13T13:19:58.590Z"
   },
   {
    "duration": 7,
    "start_time": "2022-02-13T13:20:00.066Z"
   },
   {
    "duration": 7,
    "start_time": "2022-02-13T13:20:00.503Z"
   },
   {
    "duration": 20,
    "start_time": "2022-02-13T13:20:02.926Z"
   },
   {
    "duration": 21,
    "start_time": "2022-02-13T13:20:15.939Z"
   },
   {
    "duration": 1776,
    "start_time": "2022-02-13T13:21:07.848Z"
   },
   {
    "duration": 66,
    "start_time": "2022-02-13T13:21:09.627Z"
   },
   {
    "duration": 397,
    "start_time": "2022-02-13T13:21:09.697Z"
   },
   {
    "duration": 287,
    "start_time": "2022-02-13T13:21:10.097Z"
   },
   {
    "duration": 70,
    "start_time": "2022-02-13T13:21:10.926Z"
   },
   {
    "duration": 23,
    "start_time": "2022-02-13T13:21:12.530Z"
   },
   {
    "duration": 6,
    "start_time": "2022-02-13T13:21:14.945Z"
   },
   {
    "duration": 7,
    "start_time": "2022-02-13T13:21:15.417Z"
   },
   {
    "duration": 17,
    "start_time": "2022-02-13T13:25:52.111Z"
   },
   {
    "duration": 21,
    "start_time": "2022-02-13T13:26:42.457Z"
   },
   {
    "duration": 17,
    "start_time": "2022-02-13T13:28:08.542Z"
   },
   {
    "duration": 19,
    "start_time": "2022-02-13T13:29:21.639Z"
   },
   {
    "duration": 16,
    "start_time": "2022-02-13T13:29:25.032Z"
   },
   {
    "duration": 28,
    "start_time": "2022-02-13T13:29:27.511Z"
   },
   {
    "duration": 9,
    "start_time": "2022-02-13T13:29:28.180Z"
   },
   {
    "duration": 17,
    "start_time": "2022-02-13T13:29:29.137Z"
   },
   {
    "duration": 18,
    "start_time": "2022-02-13T13:29:30.009Z"
   },
   {
    "duration": 52,
    "start_time": "2022-02-13T13:29:31.542Z"
   },
   {
    "duration": 28092,
    "start_time": "2022-02-13T13:29:35.312Z"
   },
   {
    "duration": 21,
    "start_time": "2022-02-13T13:30:03.407Z"
   },
   {
    "duration": 23,
    "start_time": "2022-02-13T13:30:59.385Z"
   },
   {
    "duration": 19,
    "start_time": "2022-02-13T13:33:20.030Z"
   },
   {
    "duration": 335,
    "start_time": "2022-02-13T13:34:29.455Z"
   },
   {
    "duration": 67,
    "start_time": "2022-02-13T13:34:31.274Z"
   },
   {
    "duration": 1165,
    "start_time": "2022-02-13T13:34:34.414Z"
   },
   {
    "duration": 14,
    "start_time": "2022-02-13T13:34:35.582Z"
   },
   {
    "duration": 716,
    "start_time": "2022-02-13T13:34:35.600Z"
   },
   {
    "duration": 112,
    "start_time": "2022-02-13T13:34:36.322Z"
   },
   {
    "duration": 334,
    "start_time": "2022-02-13T13:34:36.437Z"
   },
   {
    "duration": 609,
    "start_time": "2022-02-13T13:34:36.777Z"
   },
   {
    "duration": 38,
    "start_time": "2022-02-13T13:34:37.389Z"
   },
   {
    "duration": 56,
    "start_time": "2022-02-13T13:34:37.761Z"
   },
   {
    "duration": 29400,
    "start_time": "2022-02-13T13:34:38.686Z"
   },
   {
    "duration": 39,
    "start_time": "2022-02-13T13:35:08.090Z"
   },
   {
    "duration": 672,
    "start_time": "2022-02-13T13:35:08.133Z"
   },
   {
    "duration": 35633,
    "start_time": "2022-02-13T13:35:08.809Z"
   },
   {
    "duration": 12069,
    "start_time": "2022-02-13T13:35:44.445Z"
   },
   {
    "duration": 927,
    "start_time": "2022-02-13T13:35:56.516Z"
   },
   {
    "duration": 1732,
    "start_time": "2022-02-13T13:35:57.445Z"
   },
   {
    "duration": 745,
    "start_time": "2022-02-13T13:35:59.180Z"
   },
   {
    "duration": 106,
    "start_time": "2022-02-13T13:35:59.928Z"
   },
   {
    "duration": 305,
    "start_time": "2022-02-13T13:36:00.123Z"
   },
   {
    "duration": 394,
    "start_time": "2022-02-13T13:36:00.431Z"
   },
   {
    "duration": 31110,
    "start_time": "2022-02-13T13:36:00.829Z"
   },
   {
    "duration": 23,
    "start_time": "2022-02-13T13:36:31.941Z"
   },
   {
    "duration": 566,
    "start_time": "2022-02-13T13:36:31.967Z"
   },
   {
    "duration": 39,
    "start_time": "2022-02-13T13:41:09.646Z"
   },
   {
    "duration": 53351,
    "start_time": "2022-02-13T13:42:03.581Z"
   },
   {
    "duration": 464,
    "start_time": "2022-02-13T13:46:02.602Z"
   },
   {
    "duration": 48648,
    "start_time": "2022-02-13T13:46:15.205Z"
   },
   {
    "duration": 51907,
    "start_time": "2022-02-13T13:48:01.624Z"
   },
   {
    "duration": 20,
    "start_time": "2022-02-13T13:49:50.952Z"
   },
   {
    "duration": 509,
    "start_time": "2022-02-13T13:50:11.564Z"
   },
   {
    "duration": 19,
    "start_time": "2022-02-13T14:04:07.908Z"
   },
   {
    "duration": 8,
    "start_time": "2022-02-13T14:04:09.546Z"
   },
   {
    "duration": 7,
    "start_time": "2022-02-13T14:04:12.173Z"
   },
   {
    "duration": 12,
    "start_time": "2022-02-13T14:04:27.678Z"
   },
   {
    "duration": 392,
    "start_time": "2022-02-13T14:04:29.766Z"
   },
   {
    "duration": 9,
    "start_time": "2022-02-13T14:04:43.090Z"
   },
   {
    "duration": 95,
    "start_time": "2022-02-13T14:04:43.365Z"
   },
   {
    "duration": 111,
    "start_time": "2022-02-13T14:04:44.046Z"
   },
   {
    "duration": 16,
    "start_time": "2022-02-13T14:04:44.489Z"
   },
   {
    "duration": 65,
    "start_time": "2022-02-13T14:04:45.421Z"
   },
   {
    "duration": 16,
    "start_time": "2022-02-13T14:04:46.390Z"
   },
   {
    "duration": 6,
    "start_time": "2022-02-13T14:04:47.291Z"
   },
   {
    "duration": 41,
    "start_time": "2022-02-13T14:04:47.494Z"
   },
   {
    "duration": 18,
    "start_time": "2022-02-13T14:04:48.487Z"
   },
   {
    "duration": 16,
    "start_time": "2022-02-13T14:04:49.529Z"
   },
   {
    "duration": 32,
    "start_time": "2022-02-13T14:11:05.988Z"
   },
   {
    "duration": 1985,
    "start_time": "2022-02-13T14:19:42.807Z"
   },
   {
    "duration": 52,
    "start_time": "2022-02-13T14:19:49.164Z"
   },
   {
    "duration": 85,
    "start_time": "2022-02-13T14:20:54.454Z"
   },
   {
    "duration": 16,
    "start_time": "2022-02-13T14:20:55.181Z"
   },
   {
    "duration": 104,
    "start_time": "2022-02-13T14:20:56.354Z"
   },
   {
    "duration": 19,
    "start_time": "2022-02-13T14:21:31.193Z"
   },
   {
    "duration": 6,
    "start_time": "2022-02-13T14:21:35.693Z"
   },
   {
    "duration": 7,
    "start_time": "2022-02-13T14:21:36.301Z"
   },
   {
    "duration": 13,
    "start_time": "2022-02-13T14:55:21.641Z"
   },
   {
    "duration": 14,
    "start_time": "2022-02-13T14:55:55.972Z"
   },
   {
    "duration": 28,
    "start_time": "2022-02-13T14:56:25.848Z"
   },
   {
    "duration": 145,
    "start_time": "2022-02-13T14:56:56.108Z"
   },
   {
    "duration": 8,
    "start_time": "2022-02-13T14:57:11.295Z"
   },
   {
    "duration": 11,
    "start_time": "2022-02-13T15:02:28.240Z"
   },
   {
    "duration": 11,
    "start_time": "2022-02-13T15:07:50.265Z"
   },
   {
    "duration": 36,
    "start_time": "2022-02-13T15:08:01.258Z"
   },
   {
    "duration": 25051,
    "start_time": "2022-02-13T15:11:44.234Z"
   },
   {
    "duration": 9,
    "start_time": "2022-02-13T15:13:10.291Z"
   },
   {
    "duration": 20,
    "start_time": "2022-02-13T15:14:33.975Z"
   },
   {
    "duration": 419,
    "start_time": "2022-02-13T15:15:32.323Z"
   },
   {
    "duration": 56,
    "start_time": "2022-02-13T15:16:18.243Z"
   },
   {
    "duration": 1962,
    "start_time": "2022-02-13T15:18:47.667Z"
   },
   {
    "duration": 12,
    "start_time": "2022-02-13T15:19:33.320Z"
   },
   {
    "duration": 306,
    "start_time": "2022-02-13T15:24:27.917Z"
   },
   {
    "duration": 290,
    "start_time": "2022-02-13T19:15:42.680Z"
   },
   {
    "duration": 1466,
    "start_time": "2022-02-13T19:15:58.533Z"
   },
   {
    "duration": 54,
    "start_time": "2022-02-13T19:16:00.001Z"
   },
   {
    "duration": 76,
    "start_time": "2022-02-13T19:16:00.058Z"
   },
   {
    "duration": 16,
    "start_time": "2022-02-13T19:16:00.136Z"
   },
   {
    "duration": 61,
    "start_time": "2022-02-13T19:16:00.629Z"
   },
   {
    "duration": 18,
    "start_time": "2022-02-13T19:16:01.316Z"
   },
   {
    "duration": 5,
    "start_time": "2022-02-13T19:16:02.389Z"
   },
   {
    "duration": 6,
    "start_time": "2022-02-13T19:16:02.732Z"
   },
   {
    "duration": 14,
    "start_time": "2022-02-13T19:16:04.438Z"
   },
   {
    "duration": 13,
    "start_time": "2022-02-13T19:16:05.152Z"
   },
   {
    "duration": 26,
    "start_time": "2022-02-13T19:16:05.845Z"
   },
   {
    "duration": 7,
    "start_time": "2022-02-13T19:16:06.588Z"
   },
   {
    "duration": 10,
    "start_time": "2022-02-13T19:16:07.336Z"
   },
   {
    "duration": 11,
    "start_time": "2022-02-13T19:16:08.096Z"
   },
   {
    "duration": 34,
    "start_time": "2022-02-13T19:16:08.867Z"
   },
   {
    "duration": 22049,
    "start_time": "2022-02-13T19:16:12.150Z"
   },
   {
    "duration": 29,
    "start_time": "2022-02-13T19:16:34.203Z"
   },
   {
    "duration": 21,
    "start_time": "2022-02-13T19:16:34.237Z"
   },
   {
    "duration": 478,
    "start_time": "2022-02-13T19:16:34.262Z"
   },
   {
    "duration": 49,
    "start_time": "2022-02-13T19:16:34.743Z"
   },
   {
    "duration": 2311,
    "start_time": "2022-02-13T19:16:34.795Z"
   },
   {
    "duration": 24,
    "start_time": "2022-02-13T19:16:37.109Z"
   },
   {
    "duration": 394,
    "start_time": "2022-02-13T19:16:37.138Z"
   },
   {
    "duration": 211,
    "start_time": "2022-02-13T19:16:37.536Z"
   },
   {
    "duration": 17,
    "start_time": "2022-02-13T19:17:06.992Z"
   },
   {
    "duration": 288,
    "start_time": "2022-02-13T19:17:12.448Z"
   },
   {
    "duration": 300,
    "start_time": "2022-02-13T19:19:42.877Z"
   },
   {
    "duration": 24,
    "start_time": "2022-02-13T19:24:58.938Z"
   },
   {
    "duration": 342,
    "start_time": "2022-02-13T19:26:18.871Z"
   },
   {
    "duration": 268,
    "start_time": "2022-02-13T19:27:30.243Z"
   },
   {
    "duration": 34,
    "start_time": "2022-02-13T19:27:40.272Z"
   },
   {
    "duration": 36,
    "start_time": "2022-02-13T19:27:52.215Z"
   },
   {
    "duration": 33,
    "start_time": "2022-02-13T19:28:00.447Z"
   },
   {
    "duration": 33,
    "start_time": "2022-02-13T19:28:04.805Z"
   },
   {
    "duration": 37,
    "start_time": "2022-02-13T19:28:12.201Z"
   },
   {
    "duration": 33,
    "start_time": "2022-02-13T19:28:16.798Z"
   },
   {
    "duration": 32,
    "start_time": "2022-02-13T19:28:22.123Z"
   },
   {
    "duration": 35,
    "start_time": "2022-02-13T19:28:27.283Z"
   },
   {
    "duration": 33,
    "start_time": "2022-02-13T19:28:32.099Z"
   },
   {
    "duration": 32,
    "start_time": "2022-02-13T19:28:37.572Z"
   },
   {
    "duration": 34,
    "start_time": "2022-02-13T19:28:44.127Z"
   },
   {
    "duration": 33,
    "start_time": "2022-02-13T19:28:49.284Z"
   },
   {
    "duration": 33,
    "start_time": "2022-02-13T19:28:54.239Z"
   },
   {
    "duration": 33,
    "start_time": "2022-02-13T19:28:59.805Z"
   },
   {
    "duration": 33,
    "start_time": "2022-02-13T19:29:05.023Z"
   },
   {
    "duration": 32,
    "start_time": "2022-02-13T19:29:09.353Z"
   },
   {
    "duration": 32,
    "start_time": "2022-02-13T19:29:13.244Z"
   },
   {
    "duration": 31,
    "start_time": "2022-02-13T19:29:22.552Z"
   },
   {
    "duration": 21609,
    "start_time": "2022-02-13T19:29:42.001Z"
   },
   {
    "duration": 33,
    "start_time": "2022-02-13T19:30:03.613Z"
   },
   {
    "duration": 320,
    "start_time": "2022-02-13T19:30:03.649Z"
   },
   {
    "duration": 24148,
    "start_time": "2022-02-13T19:30:19.000Z"
   },
   {
    "duration": 25022,
    "start_time": "2022-02-13T19:32:21.902Z"
   },
   {
    "duration": 11836,
    "start_time": "2022-02-13T19:33:09.107Z"
   },
   {
    "duration": 949,
    "start_time": "2022-02-13T19:36:24.369Z"
   },
   {
    "duration": 1396,
    "start_time": "2022-02-13T19:37:08.264Z"
   },
   {
    "duration": 582,
    "start_time": "2022-02-13T19:47:33.407Z"
   },
   {
    "duration": 63,
    "start_time": "2022-02-13T19:48:20.671Z"
   },
   {
    "duration": 49,
    "start_time": "2022-02-13T19:49:14.893Z"
   },
   {
    "duration": 128,
    "start_time": "2022-02-13T19:50:53.903Z"
   },
   {
    "duration": 27509,
    "start_time": "2022-02-13T19:52:14.741Z"
   },
   {
    "duration": 28,
    "start_time": "2022-02-13T19:52:42.253Z"
   },
   {
    "duration": 293,
    "start_time": "2022-02-13T19:52:47.712Z"
   },
   {
    "duration": 113,
    "start_time": "2022-02-13T19:53:27.800Z"
   },
   {
    "duration": 25,
    "start_time": "2022-02-13T19:53:44.896Z"
   },
   {
    "duration": 25,
    "start_time": "2022-02-13T19:53:54.724Z"
   },
   {
    "duration": 33,
    "start_time": "2022-02-13T19:54:35.584Z"
   },
   {
    "duration": 36,
    "start_time": "2022-02-13T19:54:48.853Z"
   },
   {
    "duration": 34,
    "start_time": "2022-02-13T19:54:55.852Z"
   },
   {
    "duration": 34,
    "start_time": "2022-02-13T19:55:03.077Z"
   },
   {
    "duration": 31716,
    "start_time": "2022-02-13T19:55:08.107Z"
   },
   {
    "duration": 28438,
    "start_time": "2022-02-13T19:56:00.147Z"
   },
   {
    "duration": 32313,
    "start_time": "2022-02-13T19:57:18.579Z"
   },
   {
    "duration": 24,
    "start_time": "2022-02-13T19:58:16.736Z"
   },
   {
    "duration": 42325,
    "start_time": "2022-02-13T19:58:19.366Z"
   },
   {
    "duration": 36,
    "start_time": "2022-02-13T19:59:21.269Z"
   },
   {
    "duration": 32351,
    "start_time": "2022-02-13T19:59:21.855Z"
   },
   {
    "duration": 28,
    "start_time": "2022-02-13T19:59:54.209Z"
   },
   {
    "duration": 324,
    "start_time": "2022-02-13T19:59:54.241Z"
   },
   {
    "duration": 27559,
    "start_time": "2022-02-13T20:03:25.077Z"
   },
   {
    "duration": 21,
    "start_time": "2022-02-13T20:04:04.173Z"
   },
   {
    "duration": 283,
    "start_time": "2022-02-13T20:04:07.244Z"
   },
   {
    "duration": 52,
    "start_time": "2022-02-13T20:15:37.627Z"
   },
   {
    "duration": 78,
    "start_time": "2022-02-13T20:31:22.858Z"
   },
   {
    "duration": 47,
    "start_time": "2022-02-13T20:32:10.367Z"
   },
   {
    "duration": 206,
    "start_time": "2022-02-13T20:32:11.427Z"
   },
   {
    "duration": 85,
    "start_time": "2022-02-13T20:32:51.850Z"
   },
   {
    "duration": 57,
    "start_time": "2022-02-13T20:33:19.178Z"
   },
   {
    "duration": 68,
    "start_time": "2022-02-13T20:33:49.676Z"
   },
   {
    "duration": 1727,
    "start_time": "2022-02-13T20:52:39.524Z"
   },
   {
    "duration": 111,
    "start_time": "2022-02-13T20:52:41.254Z"
   },
   {
    "duration": 65,
    "start_time": "2022-02-13T20:52:41.369Z"
   },
   {
    "duration": 14,
    "start_time": "2022-02-13T20:52:41.437Z"
   },
   {
    "duration": 88,
    "start_time": "2022-02-13T20:52:41.454Z"
   },
   {
    "duration": 15,
    "start_time": "2022-02-13T20:52:41.545Z"
   },
   {
    "duration": 12,
    "start_time": "2022-02-13T20:52:41.562Z"
   },
   {
    "duration": 5,
    "start_time": "2022-02-13T20:52:41.578Z"
   },
   {
    "duration": 47,
    "start_time": "2022-02-13T20:52:41.586Z"
   },
   {
    "duration": 13,
    "start_time": "2022-02-13T20:52:41.636Z"
   },
   {
    "duration": 26,
    "start_time": "2022-02-13T20:52:41.651Z"
   },
   {
    "duration": 7,
    "start_time": "2022-02-13T20:52:41.680Z"
   },
   {
    "duration": 47,
    "start_time": "2022-02-13T20:52:41.689Z"
   },
   {
    "duration": 9,
    "start_time": "2022-02-13T20:52:41.738Z"
   },
   {
    "duration": 33,
    "start_time": "2022-02-13T20:52:41.749Z"
   },
   {
    "duration": 21470,
    "start_time": "2022-02-13T20:52:41.784Z"
   },
   {
    "duration": 7,
    "start_time": "2022-02-13T20:53:03.256Z"
   },
   {
    "duration": 19,
    "start_time": "2022-02-13T20:53:03.266Z"
   },
   {
    "duration": 339,
    "start_time": "2022-02-13T20:53:03.288Z"
   },
   {
    "duration": 46,
    "start_time": "2022-02-13T20:53:03.633Z"
   },
   {
    "duration": 1942,
    "start_time": "2022-02-13T20:53:03.682Z"
   },
   {
    "duration": 12,
    "start_time": "2022-02-13T20:53:05.626Z"
   },
   {
    "duration": 305,
    "start_time": "2022-02-13T20:53:05.645Z"
   },
   {
    "duration": 85,
    "start_time": "2022-02-13T20:53:05.953Z"
   },
   {
    "duration": 101,
    "start_time": "2022-02-13T20:53:06.042Z"
   },
   {
    "duration": 608,
    "start_time": "2022-02-13T20:53:06.147Z"
   },
   {
    "duration": 23,
    "start_time": "2022-02-13T20:53:06.757Z"
   },
   {
    "duration": 79,
    "start_time": "2022-02-13T20:53:06.783Z"
   },
   {
    "duration": 21738,
    "start_time": "2022-02-13T20:53:06.865Z"
   },
   {
    "duration": 34,
    "start_time": "2022-02-13T20:53:28.605Z"
   },
   {
    "duration": 300,
    "start_time": "2022-02-13T20:53:28.641Z"
   },
   {
    "duration": 24154,
    "start_time": "2022-02-13T20:53:28.944Z"
   },
   {
    "duration": 13005,
    "start_time": "2022-02-13T20:53:53.100Z"
   },
   {
    "duration": 904,
    "start_time": "2022-02-13T20:54:06.107Z"
   },
   {
    "duration": 1330,
    "start_time": "2022-02-13T20:54:07.013Z"
   },
   {
    "duration": 582,
    "start_time": "2022-02-13T20:54:08.345Z"
   },
   {
    "duration": 199,
    "start_time": "2022-02-13T20:54:08.933Z"
   },
   {
    "duration": 197,
    "start_time": "2022-02-13T20:54:09.135Z"
   },
   {
    "duration": 198,
    "start_time": "2022-02-13T20:54:09.335Z"
   },
   {
    "duration": 26814,
    "start_time": "2022-02-13T20:54:09.536Z"
   },
   {
    "duration": 22,
    "start_time": "2022-02-13T20:54:36.353Z"
   },
   {
    "duration": 308,
    "start_time": "2022-02-13T20:54:36.378Z"
   },
   {
    "duration": 49,
    "start_time": "2022-02-13T20:54:36.688Z"
   },
   {
    "duration": 31918,
    "start_time": "2022-02-13T20:54:36.740Z"
   },
   {
    "duration": 19,
    "start_time": "2022-02-13T20:55:08.660Z"
   },
   {
    "duration": 308,
    "start_time": "2022-02-13T20:55:08.681Z"
   },
   {
    "duration": 1115,
    "start_time": "2022-02-14T14:08:04.824Z"
   },
   {
    "duration": 35,
    "start_time": "2022-02-14T14:08:05.941Z"
   },
   {
    "duration": 39,
    "start_time": "2022-02-14T14:08:05.977Z"
   },
   {
    "duration": 10,
    "start_time": "2022-02-14T14:08:06.030Z"
   },
   {
    "duration": 34,
    "start_time": "2022-02-14T14:08:06.042Z"
   },
   {
    "duration": 11,
    "start_time": "2022-02-14T14:08:06.077Z"
   },
   {
    "duration": 4,
    "start_time": "2022-02-14T14:08:06.500Z"
   },
   {
    "duration": 4,
    "start_time": "2022-02-14T14:08:06.688Z"
   },
   {
    "duration": 9,
    "start_time": "2022-02-14T14:08:07.759Z"
   },
   {
    "duration": 9,
    "start_time": "2022-02-14T14:08:08.074Z"
   },
   {
    "duration": 16,
    "start_time": "2022-02-14T14:08:08.397Z"
   },
   {
    "duration": 5,
    "start_time": "2022-02-14T14:08:08.784Z"
   },
   {
    "duration": 8,
    "start_time": "2022-02-14T14:08:09.200Z"
   },
   {
    "duration": 8,
    "start_time": "2022-02-14T14:08:09.546Z"
   },
   {
    "duration": 22,
    "start_time": "2022-02-14T14:08:10.057Z"
   },
   {
    "duration": 14241,
    "start_time": "2022-02-14T14:08:11.498Z"
   },
   {
    "duration": 6,
    "start_time": "2022-02-14T14:08:25.741Z"
   },
   {
    "duration": 14,
    "start_time": "2022-02-14T14:08:25.749Z"
   },
   {
    "duration": 195,
    "start_time": "2022-02-14T14:08:25.765Z"
   },
   {
    "duration": 31,
    "start_time": "2022-02-14T14:08:25.962Z"
   },
   {
    "duration": 1343,
    "start_time": "2022-02-14T14:08:25.995Z"
   },
   {
    "duration": 6,
    "start_time": "2022-02-14T14:08:27.339Z"
   },
   {
    "duration": 184,
    "start_time": "2022-02-14T14:08:27.348Z"
   },
   {
    "duration": 95,
    "start_time": "2022-02-14T14:08:27.535Z"
   },
   {
    "duration": 99,
    "start_time": "2022-02-14T14:08:27.633Z"
   },
   {
    "duration": 281,
    "start_time": "2022-02-14T14:08:27.734Z"
   },
   {
    "duration": 24,
    "start_time": "2022-02-14T14:08:28.016Z"
   },
   {
    "duration": 22,
    "start_time": "2022-02-14T14:08:28.042Z"
   },
   {
    "duration": 13821,
    "start_time": "2022-02-14T14:08:28.066Z"
   },
   {
    "duration": 14,
    "start_time": "2022-02-14T14:08:41.889Z"
   },
   {
    "duration": 199,
    "start_time": "2022-02-14T14:08:41.905Z"
   },
   {
    "duration": 15738,
    "start_time": "2022-02-14T14:08:42.106Z"
   },
   {
    "duration": 7859,
    "start_time": "2022-02-14T14:08:57.846Z"
   },
   {
    "duration": 627,
    "start_time": "2022-02-14T14:09:05.707Z"
   },
   {
    "duration": 909,
    "start_time": "2022-02-14T14:09:06.336Z"
   },
   {
    "duration": 396,
    "start_time": "2022-02-14T14:09:07.247Z"
   },
   {
    "duration": 88,
    "start_time": "2022-02-14T14:09:07.644Z"
   },
   {
    "duration": 193,
    "start_time": "2022-02-14T14:09:07.739Z"
   },
   {
    "duration": 196,
    "start_time": "2022-02-14T14:09:07.935Z"
   },
   {
    "duration": 280,
    "start_time": "2022-02-14T14:09:08.139Z"
   },
   {
    "duration": 13,
    "start_time": "2022-02-14T14:14:21.709Z"
   },
   {
    "duration": 185,
    "start_time": "2022-02-14T14:14:23.695Z"
   },
   {
    "duration": 12,
    "start_time": "2022-02-14T14:14:51.404Z"
   },
   {
    "duration": 230,
    "start_time": "2022-02-14T14:14:53.600Z"
   },
   {
    "duration": 184,
    "start_time": "2022-02-14T14:16:41.250Z"
   },
   {
    "duration": 1596,
    "start_time": "2022-02-14T16:15:18.845Z"
   },
   {
    "duration": 36,
    "start_time": "2022-02-14T16:15:20.443Z"
   },
   {
    "duration": 38,
    "start_time": "2022-02-14T16:15:20.481Z"
   },
   {
    "duration": 9,
    "start_time": "2022-02-14T16:15:20.530Z"
   },
   {
    "duration": 36,
    "start_time": "2022-02-14T16:15:20.541Z"
   },
   {
    "duration": 11,
    "start_time": "2022-02-14T16:15:20.579Z"
   },
   {
    "duration": 5,
    "start_time": "2022-02-14T16:15:20.592Z"
   },
   {
    "duration": 35,
    "start_time": "2022-02-14T16:15:20.598Z"
   },
   {
    "duration": 10,
    "start_time": "2022-02-14T16:15:20.636Z"
   },
   {
    "duration": 8,
    "start_time": "2022-02-14T16:15:20.648Z"
   },
   {
    "duration": 17,
    "start_time": "2022-02-14T16:15:20.658Z"
   },
   {
    "duration": 5,
    "start_time": "2022-02-14T16:15:20.676Z"
   },
   {
    "duration": 9,
    "start_time": "2022-02-14T16:15:20.682Z"
   },
   {
    "duration": 44,
    "start_time": "2022-02-14T16:15:20.693Z"
   },
   {
    "duration": 22,
    "start_time": "2022-02-14T16:15:20.739Z"
   },
   {
    "duration": 14250,
    "start_time": "2022-02-14T16:15:20.763Z"
   },
   {
    "duration": 15,
    "start_time": "2022-02-14T16:15:35.015Z"
   },
   {
    "duration": 14,
    "start_time": "2022-02-14T16:15:35.032Z"
   },
   {
    "duration": 204,
    "start_time": "2022-02-14T16:15:35.048Z"
   },
   {
    "duration": 32,
    "start_time": "2022-02-14T16:15:35.254Z"
   },
   {
    "duration": 1446,
    "start_time": "2022-02-14T16:15:35.288Z"
   },
   {
    "duration": 8,
    "start_time": "2022-02-14T16:15:36.736Z"
   },
   {
    "duration": 194,
    "start_time": "2022-02-14T16:15:36.746Z"
   },
   {
    "duration": 93,
    "start_time": "2022-02-14T16:15:36.942Z"
   },
   {
    "duration": 99,
    "start_time": "2022-02-14T16:15:37.038Z"
   },
   {
    "duration": 359,
    "start_time": "2022-02-14T16:15:37.139Z"
   },
   {
    "duration": 15,
    "start_time": "2022-02-14T16:15:37.501Z"
   },
   {
    "duration": 33,
    "start_time": "2022-02-14T16:15:37.518Z"
   },
   {
    "duration": 14198,
    "start_time": "2022-02-14T16:15:37.552Z"
   },
   {
    "duration": 15,
    "start_time": "2022-02-14T16:15:51.753Z"
   },
   {
    "duration": 196,
    "start_time": "2022-02-14T16:15:51.770Z"
   },
   {
    "duration": 17610,
    "start_time": "2022-02-14T16:15:51.968Z"
   },
   {
    "duration": 7478,
    "start_time": "2022-02-14T16:16:09.580Z"
   },
   {
    "duration": 617,
    "start_time": "2022-02-14T16:16:17.060Z"
   },
   {
    "duration": 918,
    "start_time": "2022-02-14T16:16:17.679Z"
   },
   {
    "duration": 399,
    "start_time": "2022-02-14T16:16:18.599Z"
   },
   {
    "duration": 36,
    "start_time": "2022-02-14T16:16:19.000Z"
   },
   {
    "duration": 205,
    "start_time": "2022-02-14T16:16:19.038Z"
   },
   {
    "duration": 202,
    "start_time": "2022-02-14T16:16:19.332Z"
   },
   {
    "duration": 254,
    "start_time": "2022-02-14T16:16:19.536Z"
   },
   {
    "duration": 11,
    "start_time": "2022-02-14T16:16:19.791Z"
   },
   {
    "duration": 187,
    "start_time": "2022-02-14T16:16:19.803Z"
   }
  ],
  "kernelspec": {
   "display_name": "Python 3 (ipykernel)",
   "language": "python",
   "name": "python3"
  },
  "language_info": {
   "codemirror_mode": {
    "name": "ipython",
    "version": 3
   },
   "file_extension": ".py",
   "mimetype": "text/x-python",
   "name": "python",
   "nbconvert_exporter": "python",
   "pygments_lexer": "ipython3",
   "version": "3.9.7"
  },
  "toc": {
   "base_numbering": 1,
   "nav_menu": {},
   "number_sections": true,
   "sideBar": true,
   "skip_h1_title": true,
   "title_cell": "Содержание",
   "title_sidebar": "Contents",
   "toc_cell": true,
   "toc_position": {
    "height": "calc(100% - 180px)",
    "left": "10px",
    "top": "150px",
    "width": "276.8px"
   },
   "toc_section_display": true,
   "toc_window_display": true
  }
 },
 "nbformat": 4,
 "nbformat_minor": 2
}
